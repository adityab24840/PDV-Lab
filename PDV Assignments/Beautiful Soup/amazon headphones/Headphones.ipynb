{
 "cells": [
  {
   "cell_type": "markdown",
   "metadata": {},
   "source": [
    "Single Page"
   ]
  },
  {
   "cell_type": "code",
   "execution_count": 2,
   "metadata": {},
   "outputs": [
    {
     "ename": "HTTPError",
     "evalue": "503 Server Error: Service Unavailable for url: https://www.amazon.in/s?rh=n%3A1388921031&fs=true&ref=lp_1388921031_sar",
     "output_type": "error",
     "traceback": [
      "\u001b[1;31m---------------------------------------------------------------------------\u001b[0m",
      "\u001b[1;31mHTTPError\u001b[0m                                 Traceback (most recent call last)",
      "\u001b[1;32md:\\MSIS\\Principles of Data Visualization (PDV)\\PDV Assignments\\Beautiful Soup\\amazon headphones\\Headphones.ipynb Cell 2\u001b[0m line \u001b[0;36m5\n\u001b[0;32m     <a href='vscode-notebook-cell:/d%3A/MSIS/Principles%20of%20Data%20Visualization%20%28PDV%29/PDV%20Assignments/Beautiful%20Soup/amazon%20headphones/Headphones.ipynb#W0sZmlsZQ%3D%3D?line=51'>52</a>\u001b[0m         \u001b[39mprint\u001b[39m(\u001b[39m\"\u001b[39m\u001b[39mNo results found on the page.\u001b[39m\u001b[39m\"\u001b[39m)\n\u001b[0;32m     <a href='vscode-notebook-cell:/d%3A/MSIS/Principles%20of%20Data%20Visualization%20%28PDV%29/PDV%20Assignments/Beautiful%20Soup/amazon%20headphones/Headphones.ipynb#W0sZmlsZQ%3D%3D?line=53'>54</a>\u001b[0m \u001b[39mif\u001b[39;00m \u001b[39m__name__\u001b[39m \u001b[39m==\u001b[39m \u001b[39m\"\u001b[39m\u001b[39m__main__\u001b[39m\u001b[39m\"\u001b[39m:\n\u001b[1;32m---> <a href='vscode-notebook-cell:/d%3A/MSIS/Principles%20of%20Data%20Visualization%20%28PDV%29/PDV%20Assignments/Beautiful%20Soup/amazon%20headphones/Headphones.ipynb#W0sZmlsZQ%3D%3D?line=54'>55</a>\u001b[0m     main()\n",
      "\u001b[1;32md:\\MSIS\\Principles of Data Visualization (PDV)\\PDV Assignments\\Beautiful Soup\\amazon headphones\\Headphones.ipynb Cell 2\u001b[0m line \u001b[0;36m3\n\u001b[0;32m     <a href='vscode-notebook-cell:/d%3A/MSIS/Principles%20of%20Data%20Visualization%20%28PDV%29/PDV%20Assignments/Beautiful%20Soup/amazon%20headphones/Headphones.ipynb#W0sZmlsZQ%3D%3D?line=34'>35</a>\u001b[0m ua \u001b[39m=\u001b[39m UserAgent()\n\u001b[0;32m     <a href='vscode-notebook-cell:/d%3A/MSIS/Principles%20of%20Data%20Visualization%20%28PDV%29/PDV%20Assignments/Beautiful%20Soup/amazon%20headphones/Headphones.ipynb#W0sZmlsZQ%3D%3D?line=35'>36</a>\u001b[0m headers \u001b[39m=\u001b[39m {\u001b[39m'\u001b[39m\u001b[39mUser-Agent\u001b[39m\u001b[39m'\u001b[39m: ua\u001b[39m.\u001b[39mchrome}\n\u001b[1;32m---> <a href='vscode-notebook-cell:/d%3A/MSIS/Principles%20of%20Data%20Visualization%20%28PDV%29/PDV%20Assignments/Beautiful%20Soup/amazon%20headphones/Headphones.ipynb#W0sZmlsZQ%3D%3D?line=36'>37</a>\u001b[0m product_data \u001b[39m=\u001b[39m scrape_amazon_product_data(url, headers)\n\u001b[0;32m     <a href='vscode-notebook-cell:/d%3A/MSIS/Principles%20of%20Data%20Visualization%20%28PDV%29/PDV%20Assignments/Beautiful%20Soup/amazon%20headphones/Headphones.ipynb#W0sZmlsZQ%3D%3D?line=38'>39</a>\u001b[0m \u001b[39mif\u001b[39;00m product_data:\n\u001b[0;32m     <a href='vscode-notebook-cell:/d%3A/MSIS/Principles%20of%20Data%20Visualization%20%28PDV%29/PDV%20Assignments/Beautiful%20Soup/amazon%20headphones/Headphones.ipynb#W0sZmlsZQ%3D%3D?line=39'>40</a>\u001b[0m     \u001b[39m# Create a DataFrame using Pandas\u001b[39;00m\n\u001b[0;32m     <a href='vscode-notebook-cell:/d%3A/MSIS/Principles%20of%20Data%20Visualization%20%28PDV%29/PDV%20Assignments/Beautiful%20Soup/amazon%20headphones/Headphones.ipynb#W0sZmlsZQ%3D%3D?line=40'>41</a>\u001b[0m     df \u001b[39m=\u001b[39m pd\u001b[39m.\u001b[39mDataFrame(product_data, columns\u001b[39m=\u001b[39m[\u001b[39m'\u001b[39m\u001b[39mName\u001b[39m\u001b[39m'\u001b[39m, \u001b[39m'\u001b[39m\u001b[39mPrice\u001b[39m\u001b[39m'\u001b[39m])\n",
      "\u001b[1;32md:\\MSIS\\Principles of Data Visualization (PDV)\\PDV Assignments\\Beautiful Soup\\amazon headphones\\Headphones.ipynb Cell 2\u001b[0m line \u001b[0;36m8\n\u001b[0;32m      <a href='vscode-notebook-cell:/d%3A/MSIS/Principles%20of%20Data%20Visualization%20%28PDV%29/PDV%20Assignments/Beautiful%20Soup/amazon%20headphones/Headphones.ipynb#W0sZmlsZQ%3D%3D?line=5'>6</a>\u001b[0m \u001b[39mdef\u001b[39;00m \u001b[39mscrape_amazon_product_data\u001b[39m(url, headers):\n\u001b[0;32m      <a href='vscode-notebook-cell:/d%3A/MSIS/Principles%20of%20Data%20Visualization%20%28PDV%29/PDV%20Assignments/Beautiful%20Soup/amazon%20headphones/Headphones.ipynb#W0sZmlsZQ%3D%3D?line=6'>7</a>\u001b[0m     response \u001b[39m=\u001b[39m requests\u001b[39m.\u001b[39mget(url, headers\u001b[39m=\u001b[39mheaders)\n\u001b[1;32m----> <a href='vscode-notebook-cell:/d%3A/MSIS/Principles%20of%20Data%20Visualization%20%28PDV%29/PDV%20Assignments/Beautiful%20Soup/amazon%20headphones/Headphones.ipynb#W0sZmlsZQ%3D%3D?line=7'>8</a>\u001b[0m     response\u001b[39m.\u001b[39;49mraise_for_status()\n\u001b[0;32m     <a href='vscode-notebook-cell:/d%3A/MSIS/Principles%20of%20Data%20Visualization%20%28PDV%29/PDV%20Assignments/Beautiful%20Soup/amazon%20headphones/Headphones.ipynb#W0sZmlsZQ%3D%3D?line=9'>10</a>\u001b[0m     soup \u001b[39m=\u001b[39m BeautifulSoup(response\u001b[39m.\u001b[39mtext, \u001b[39m\"\u001b[39m\u001b[39mhtml.parser\u001b[39m\u001b[39m\"\u001b[39m)\n\u001b[0;32m     <a href='vscode-notebook-cell:/d%3A/MSIS/Principles%20of%20Data%20Visualization%20%28PDV%29/PDV%20Assignments/Beautiful%20Soup/amazon%20headphones/Headphones.ipynb#W0sZmlsZQ%3D%3D?line=11'>12</a>\u001b[0m     results \u001b[39m=\u001b[39m soup\u001b[39m.\u001b[39mfind(\u001b[39m\"\u001b[39m\u001b[39mdiv\u001b[39m\u001b[39m\"\u001b[39m, {\u001b[39m\"\u001b[39m\u001b[39mclass\u001b[39m\u001b[39m\"\u001b[39m: \u001b[39m\"\u001b[39m\u001b[39ms-main-slot s-result-list s-search-results sg-row\u001b[39m\u001b[39m\"\u001b[39m})\n",
      "File \u001b[1;32m~\\AppData\\Local\\Packages\\PythonSoftwareFoundation.Python.3.10_qbz5n2kfra8p0\\LocalCache\\local-packages\\Python310\\site-packages\\requests\\models.py:1021\u001b[0m, in \u001b[0;36mResponse.raise_for_status\u001b[1;34m(self)\u001b[0m\n\u001b[0;32m   1016\u001b[0m     http_error_msg \u001b[39m=\u001b[39m (\n\u001b[0;32m   1017\u001b[0m         \u001b[39mf\u001b[39m\u001b[39m\"\u001b[39m\u001b[39m{\u001b[39;00m\u001b[39mself\u001b[39m\u001b[39m.\u001b[39mstatus_code\u001b[39m}\u001b[39;00m\u001b[39m Server Error: \u001b[39m\u001b[39m{\u001b[39;00mreason\u001b[39m}\u001b[39;00m\u001b[39m for url: \u001b[39m\u001b[39m{\u001b[39;00m\u001b[39mself\u001b[39m\u001b[39m.\u001b[39murl\u001b[39m}\u001b[39;00m\u001b[39m\"\u001b[39m\n\u001b[0;32m   1018\u001b[0m     )\n\u001b[0;32m   1020\u001b[0m \u001b[39mif\u001b[39;00m http_error_msg:\n\u001b[1;32m-> 1021\u001b[0m     \u001b[39mraise\u001b[39;00m HTTPError(http_error_msg, response\u001b[39m=\u001b[39m\u001b[39mself\u001b[39m)\n",
      "\u001b[1;31mHTTPError\u001b[0m: 503 Server Error: Service Unavailable for url: https://www.amazon.in/s?rh=n%3A1388921031&fs=true&ref=lp_1388921031_sar"
     ]
    }
   ],
   "source": [
    "import requests\n",
    "from bs4 import BeautifulSoup\n",
    "import pandas as pd\n",
    "from fake_useragent import UserAgent\n",
    "\n",
    "def scrape_amazon_product_data(url, headers):\n",
    "    response = requests.get(url, headers=headers)\n",
    "    response.raise_for_status()\n",
    "\n",
    "    soup = BeautifulSoup(response.text, \"html.parser\")\n",
    "\n",
    "    results = soup.find(\"div\", {\"class\": \"s-main-slot s-result-list s-search-results sg-row\"})\n",
    "\n",
    "    if results:\n",
    "        all_products = results.find_all(\"div\", {\"class\": \"sg-col-inner\"})\n",
    "\n",
    "        product_data = []\n",
    "\n",
    "        for item in all_products:\n",
    "            name = item.find(\"span\", {\"class\": \"a-size-base-plus\"})\n",
    "            price = item.find(\"span\", {\"class\": \"a-price-whole\"})\n",
    "\n",
    "            # Handle missing data\n",
    "            name_text = name.text.strip() if name else \"N/A\"\n",
    "            price_text = price.text.strip() if price else \"N/A\"\n",
    "\n",
    "            product_data.append([name_text, price_text])\n",
    "\n",
    "        return product_data\n",
    "    else:\n",
    "        return None\n",
    "\n",
    "def main():\n",
    "    url = \"https://www.amazon.in/s?rh=n%3A1388921031&fs=true&ref=lp_1388921031_sar\"\n",
    "    ua = UserAgent()\n",
    "    headers = {'User-Agent': ua.chrome}\n",
    "    product_data = scrape_amazon_product_data(url, headers)\n",
    "\n",
    "    if product_data:\n",
    "        # Create a DataFrame using Pandas\n",
    "        df = pd.DataFrame(product_data, columns=['Name', 'Price'])\n",
    "\n",
    "        item_count = len(df)  # Get the count of items\n",
    "\n",
    "        print(f\"Total items found: {item_count}\")\n",
    "        \n",
    "        # Save the DataFrame to a CSV file\n",
    "        df.to_csv('amazon_products_headphone.csv', index=False, encoding='utf-8')\n",
    "\n",
    "        print(\"Data has been saved to amazon_products_headphones.csv\")\n",
    "    else:\n",
    "        print(\"No results found on the page.\")\n",
    "\n",
    "if __name__ == \"__main__\":\n",
    "    main()\n"
   ]
  },
  {
   "cell_type": "markdown",
   "metadata": {},
   "source": [
    "Multi Page"
   ]
  },
  {
   "cell_type": "code",
   "execution_count": 3,
   "metadata": {},
   "outputs": [
    {
     "ename": "HTTPError",
     "evalue": "503 Server Error: Service Unavailable for url: https://www.amazon.in/s?rh=n%3A1388921031&fs=true&ref=lp_1388921031_sar&page=1",
     "output_type": "error",
     "traceback": [
      "\u001b[1;31m---------------------------------------------------------------------------\u001b[0m",
      "\u001b[1;31mHTTPError\u001b[0m                                 Traceback (most recent call last)",
      "\u001b[1;32md:\\MSIS\\Principles of Data Visualization (PDV)\\PDV Assignments\\Beautiful Soup\\amazon headphones\\Headphones.ipynb Cell 4\u001b[0m line \u001b[0;36m5\n\u001b[0;32m     <a href='vscode-notebook-cell:/d%3A/MSIS/Principles%20of%20Data%20Visualization%20%28PDV%29/PDV%20Assignments/Beautiful%20Soup/amazon%20headphones/Headphones.ipynb#W2sZmlsZQ%3D%3D?line=53'>54</a>\u001b[0m         \u001b[39mprint\u001b[39m(\u001b[39m\"\u001b[39m\u001b[39mNo results found on the page.\u001b[39m\u001b[39m\"\u001b[39m)\n\u001b[0;32m     <a href='vscode-notebook-cell:/d%3A/MSIS/Principles%20of%20Data%20Visualization%20%28PDV%29/PDV%20Assignments/Beautiful%20Soup/amazon%20headphones/Headphones.ipynb#W2sZmlsZQ%3D%3D?line=55'>56</a>\u001b[0m \u001b[39mif\u001b[39;00m \u001b[39m__name__\u001b[39m \u001b[39m==\u001b[39m \u001b[39m\"\u001b[39m\u001b[39m__main__\u001b[39m\u001b[39m\"\u001b[39m:\n\u001b[1;32m---> <a href='vscode-notebook-cell:/d%3A/MSIS/Principles%20of%20Data%20Visualization%20%28PDV%29/PDV%20Assignments/Beautiful%20Soup/amazon%20headphones/Headphones.ipynb#W2sZmlsZQ%3D%3D?line=56'>57</a>\u001b[0m     main()\n",
      "\u001b[1;32md:\\MSIS\\Principles of Data Visualization (PDV)\\PDV Assignments\\Beautiful Soup\\amazon headphones\\Headphones.ipynb Cell 4\u001b[0m line \u001b[0;36m3\n\u001b[0;32m     <a href='vscode-notebook-cell:/d%3A/MSIS/Principles%20of%20Data%20Visualization%20%28PDV%29/PDV%20Assignments/Beautiful%20Soup/amazon%20headphones/Headphones.ipynb#W2sZmlsZQ%3D%3D?line=35'>36</a>\u001b[0m headers \u001b[39m=\u001b[39m {\u001b[39m'\u001b[39m\u001b[39mUser-Agent\u001b[39m\u001b[39m'\u001b[39m: ua\u001b[39m.\u001b[39mchrome}\n\u001b[0;32m     <a href='vscode-notebook-cell:/d%3A/MSIS/Principles%20of%20Data%20Visualization%20%28PDV%29/PDV%20Assignments/Beautiful%20Soup/amazon%20headphones/Headphones.ipynb#W2sZmlsZQ%3D%3D?line=36'>37</a>\u001b[0m num_pages \u001b[39m=\u001b[39m \u001b[39m5\u001b[39m  \u001b[39m# You can change this to the number of pages you want to scrape\u001b[39;00m\n\u001b[1;32m---> <a href='vscode-notebook-cell:/d%3A/MSIS/Principles%20of%20Data%20Visualization%20%28PDV%29/PDV%20Assignments/Beautiful%20Soup/amazon%20headphones/Headphones.ipynb#W2sZmlsZQ%3D%3D?line=38'>39</a>\u001b[0m product_data \u001b[39m=\u001b[39m scrape_amazon_product_data(url, headers, num_pages)\n\u001b[0;32m     <a href='vscode-notebook-cell:/d%3A/MSIS/Principles%20of%20Data%20Visualization%20%28PDV%29/PDV%20Assignments/Beautiful%20Soup/amazon%20headphones/Headphones.ipynb#W2sZmlsZQ%3D%3D?line=40'>41</a>\u001b[0m \u001b[39mif\u001b[39;00m product_data:\n\u001b[0;32m     <a href='vscode-notebook-cell:/d%3A/MSIS/Principles%20of%20Data%20Visualization%20%28PDV%29/PDV%20Assignments/Beautiful%20Soup/amazon%20headphones/Headphones.ipynb#W2sZmlsZQ%3D%3D?line=41'>42</a>\u001b[0m     \u001b[39m# Create a DataFrame using Pandas\u001b[39;00m\n\u001b[0;32m     <a href='vscode-notebook-cell:/d%3A/MSIS/Principles%20of%20Data%20Visualization%20%28PDV%29/PDV%20Assignments/Beautiful%20Soup/amazon%20headphones/Headphones.ipynb#W2sZmlsZQ%3D%3D?line=42'>43</a>\u001b[0m     df \u001b[39m=\u001b[39m pd\u001b[39m.\u001b[39mDataFrame(product_data, columns\u001b[39m=\u001b[39m[\u001b[39m'\u001b[39m\u001b[39mName\u001b[39m\u001b[39m'\u001b[39m, \u001b[39m'\u001b[39m\u001b[39mPrice\u001b[39m\u001b[39m'\u001b[39m])\n",
      "\u001b[1;32md:\\MSIS\\Principles of Data Visualization (PDV)\\PDV Assignments\\Beautiful Soup\\amazon headphones\\Headphones.ipynb Cell 4\u001b[0m line \u001b[0;36m1\n\u001b[0;32m     <a href='vscode-notebook-cell:/d%3A/MSIS/Principles%20of%20Data%20Visualization%20%28PDV%29/PDV%20Assignments/Beautiful%20Soup/amazon%20headphones/Headphones.ipynb#W2sZmlsZQ%3D%3D?line=9'>10</a>\u001b[0m current_url \u001b[39m=\u001b[39m \u001b[39mf\u001b[39m\u001b[39m\"\u001b[39m\u001b[39m{\u001b[39;00murl\u001b[39m}\u001b[39;00m\u001b[39m&page=\u001b[39m\u001b[39m{\u001b[39;00mpage\u001b[39m}\u001b[39;00m\u001b[39m\"\u001b[39m\n\u001b[0;32m     <a href='vscode-notebook-cell:/d%3A/MSIS/Principles%20of%20Data%20Visualization%20%28PDV%29/PDV%20Assignments/Beautiful%20Soup/amazon%20headphones/Headphones.ipynb#W2sZmlsZQ%3D%3D?line=10'>11</a>\u001b[0m response \u001b[39m=\u001b[39m requests\u001b[39m.\u001b[39mget(current_url, headers\u001b[39m=\u001b[39mheaders)\n\u001b[1;32m---> <a href='vscode-notebook-cell:/d%3A/MSIS/Principles%20of%20Data%20Visualization%20%28PDV%29/PDV%20Assignments/Beautiful%20Soup/amazon%20headphones/Headphones.ipynb#W2sZmlsZQ%3D%3D?line=11'>12</a>\u001b[0m response\u001b[39m.\u001b[39;49mraise_for_status()\n\u001b[0;32m     <a href='vscode-notebook-cell:/d%3A/MSIS/Principles%20of%20Data%20Visualization%20%28PDV%29/PDV%20Assignments/Beautiful%20Soup/amazon%20headphones/Headphones.ipynb#W2sZmlsZQ%3D%3D?line=13'>14</a>\u001b[0m soup \u001b[39m=\u001b[39m BeautifulSoup(response\u001b[39m.\u001b[39mtext, \u001b[39m\"\u001b[39m\u001b[39mhtml.parser\u001b[39m\u001b[39m\"\u001b[39m)\n\u001b[0;32m     <a href='vscode-notebook-cell:/d%3A/MSIS/Principles%20of%20Data%20Visualization%20%28PDV%29/PDV%20Assignments/Beautiful%20Soup/amazon%20headphones/Headphones.ipynb#W2sZmlsZQ%3D%3D?line=15'>16</a>\u001b[0m results \u001b[39m=\u001b[39m soup\u001b[39m.\u001b[39mfind(\u001b[39m\"\u001b[39m\u001b[39mdiv\u001b[39m\u001b[39m\"\u001b[39m, {\u001b[39m\"\u001b[39m\u001b[39mclass\u001b[39m\u001b[39m\"\u001b[39m: \u001b[39m\"\u001b[39m\u001b[39ms-main-slot s-result-list s-search-results sg-row\u001b[39m\u001b[39m\"\u001b[39m})\n",
      "File \u001b[1;32m~\\AppData\\Local\\Packages\\PythonSoftwareFoundation.Python.3.10_qbz5n2kfra8p0\\LocalCache\\local-packages\\Python310\\site-packages\\requests\\models.py:1021\u001b[0m, in \u001b[0;36mResponse.raise_for_status\u001b[1;34m(self)\u001b[0m\n\u001b[0;32m   1016\u001b[0m     http_error_msg \u001b[39m=\u001b[39m (\n\u001b[0;32m   1017\u001b[0m         \u001b[39mf\u001b[39m\u001b[39m\"\u001b[39m\u001b[39m{\u001b[39;00m\u001b[39mself\u001b[39m\u001b[39m.\u001b[39mstatus_code\u001b[39m}\u001b[39;00m\u001b[39m Server Error: \u001b[39m\u001b[39m{\u001b[39;00mreason\u001b[39m}\u001b[39;00m\u001b[39m for url: \u001b[39m\u001b[39m{\u001b[39;00m\u001b[39mself\u001b[39m\u001b[39m.\u001b[39murl\u001b[39m}\u001b[39;00m\u001b[39m\"\u001b[39m\n\u001b[0;32m   1018\u001b[0m     )\n\u001b[0;32m   1020\u001b[0m \u001b[39mif\u001b[39;00m http_error_msg:\n\u001b[1;32m-> 1021\u001b[0m     \u001b[39mraise\u001b[39;00m HTTPError(http_error_msg, response\u001b[39m=\u001b[39m\u001b[39mself\u001b[39m)\n",
      "\u001b[1;31mHTTPError\u001b[0m: 503 Server Error: Service Unavailable for url: https://www.amazon.in/s?rh=n%3A1388921031&fs=true&ref=lp_1388921031_sar&page=1"
     ]
    }
   ],
   "source": [
    "import requests\n",
    "from bs4 import BeautifulSoup\n",
    "import pandas as pd\n",
    "from fake_useragent import UserAgent\n",
    "\n",
    "def scrape_amazon_product_data(url, headers, num_pages):\n",
    "    all_product_data = []\n",
    "\n",
    "    for page in range(1, num_pages + 1):\n",
    "        current_url = f\"{url}&page={page}\"\n",
    "        response = requests.get(current_url, headers=headers)\n",
    "        response.raise_for_status()\n",
    "\n",
    "        soup = BeautifulSoup(response.text, \"html.parser\")\n",
    "\n",
    "        results = soup.find(\"div\", {\"class\": \"s-main-slot s-result-list s-search-results sg-row\"})\n",
    "\n",
    "        if results:\n",
    "            all_products = results.find_all(\"div\", {\"class\": \"sg-col-inner\"})\n",
    "\n",
    "            for item in all_products:\n",
    "                name = item.find(\"span\", {\"class\": \"a-size-base-plus\"})\n",
    "                price = item.find(\"span\", {\"class\": \"a-price-whole\"})\n",
    "\n",
    "                # Handle missing data\n",
    "                name_text = name.text.strip() if name else \"N/A\"\n",
    "                price_text = price.text.strip() if price else \"N/A\"\n",
    "\n",
    "                all_product_data.append([name_text, price_text])\n",
    "\n",
    "    return all_product_data\n",
    "\n",
    "def main():\n",
    "    url = \"https://www.amazon.in/s?rh=n%3A1388921031&fs=true&ref=lp_1388921031_sar\"\n",
    "    ua = UserAgent()\n",
    "    headers = {'User-Agent': ua.chrome}\n",
    "    num_pages = 5  # You can change this to the number of pages you want to scrape\n",
    "\n",
    "    product_data = scrape_amazon_product_data(url, headers, num_pages)\n",
    "\n",
    "    if product_data:\n",
    "        # Create a DataFrame using Pandas\n",
    "        df = pd.DataFrame(product_data, columns=['Name', 'Price'])\n",
    "\n",
    "        item_count = len(df)  # Get the count of items\n",
    "\n",
    "        print(f\"Total items found: {item_count}\")\n",
    "        \n",
    "        # Save the DataFrame to a CSV file\n",
    "        df.to_csv('amazon_products_headphones_multi.csv', index=False, encoding='utf-8')\n",
    "\n",
    "        print(\"Data has been saved to amazon_products_headphones_multi.csv\")\n",
    "    else:\n",
    "        print(\"No results found on the page.\")\n",
    "\n",
    "if __name__ == \"__main__\":\n",
    "    main()\n"
   ]
  }
 ],
 "metadata": {
  "kernelspec": {
   "display_name": "Python 3",
   "language": "python",
   "name": "python3"
  },
  "language_info": {
   "codemirror_mode": {
    "name": "ipython",
    "version": 3
   },
   "file_extension": ".py",
   "mimetype": "text/x-python",
   "name": "python",
   "nbconvert_exporter": "python",
   "pygments_lexer": "ipython3",
   "version": "3.10.11"
  }
 },
 "nbformat": 4,
 "nbformat_minor": 2
}
