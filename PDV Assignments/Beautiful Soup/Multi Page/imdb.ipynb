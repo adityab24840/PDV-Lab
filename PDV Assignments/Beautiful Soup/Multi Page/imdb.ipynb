{
 "cells": [
  {
   "cell_type": "markdown",
   "metadata": {},
   "source": [
    "Use BeautifulSoup to scrape the International Movies Database (IMDB) at imdb.com for top films released in year 2023 with the highest US box office. \n",
    "\n",
    "This is multi-page scraping\n",
    "The scrape_movies function is responsible for this multi-page scraping.\n",
    "\n",
    "(https://www.imdb.com/search/title/?release_date=2023&sort=boxoffice_gross_us,desc&start=1)\n",
    "using 5 features\n",
    "1. name - title of the movie,\n",
    "2. year - release year of the movie,\n",
    "3. imdb - IMDB score of the movie,\n",
    "4. vote - number of votes.\n",
    "5. rating - imdb rating"
   ]
  },
  {
   "cell_type": "code",
   "execution_count": 26,
   "metadata": {},
   "outputs": [],
   "source": [
    "import bs4\n",
    "import requests\n",
    "import time\n",
    "import random as ran\n",
    "import pandas as pd\n",
    "from nbconvert import PDFExporter\n",
    "import nbformat"
   ]
  },
  {
   "cell_type": "code",
   "execution_count": 27,
   "metadata": {},
   "outputs": [],
   "source": [
    "def scrape_mblock(movie_block):\n",
    "    name_element = movie_block.find('a')\n",
    "    year_element = movie_block.find('span', {'class': 'lister-item-year'})\n",
    "    rating_element = movie_block.find('div', {'class': 'inline-block ratings-imdb-rating'})\n",
    "    m_score_element = movie_block.find('span', {'class': 'metascore favorable'})\n",
    "    votes_element = movie_block.find('span', {'name': 'nv'})\n",
    "    genre=movie_block.find('span',{'class':'genre'})\n",
    "    return {\n",
    "        'name': name_element.get_text() if name_element else None,\n",
    "        'year': year_element.contents[0][1:-1] if year_element else None,\n",
    "        'rating': float(rating_element.get('data-value')) if rating_element else None,\n",
    "        'm_score': float(m_score_element.contents[0].strip()) if m_score_element else None,\n",
    "        'votes': int(votes_element.get('data-value').replace(',', '')) if votes_element else None,\n",
    "        'genre': genre.get_text() if genre else None\n",
    "\n",
    "    }"
   ]
  },
  {
   "cell_type": "code",
   "execution_count": 28,
   "metadata": {},
   "outputs": [],
   "source": [
    "def scrape_page(movie_blocks):\n",
    "    return [scrape_mblock(movie_block) for movie_block in movie_blocks]\n"
   ]
  },
  {
   "cell_type": "code",
   "execution_count": 29,
   "metadata": {},
   "outputs": [],
   "source": [
    "def scrape_movies(link, target_count):\n",
    "    movie_data = []\n",
    "    page_number = 1\n",
    "    \n",
    "    while len(movie_data) < target_count:\n",
    "        url = link + str(page_number)\n",
    "        source = requests.get(url).text\n",
    "        soup = bs4.BeautifulSoup(source, 'html.parser')\n",
    "        movie_blocks = soup.findAll('div', {'class': 'lister-item-content'})\n",
    "        \n",
    "        if not movie_blocks:\n",
    "            break\n",
    "        \n",
    "        movie_data.extend(scrape_page(movie_blocks))\n",
    "        page_number += 50\n",
    "        time.sleep(ran.randint(0, 10))\n",
    "    \n",
    "    return movie_data"
   ]
  },
  {
   "cell_type": "code",
   "execution_count": 30,
   "metadata": {},
   "outputs": [],
   "source": [
    "def convert_notebook_to_pdf(notebook_file, output_pdf):\n",
    "    with open(notebook_file, 'r') as f:\n",
    "        nb = nbformat.read(f, as_version=4)\n",
    "    pdf_exporter = PDFExporter()\n",
    "    (body, resources) = pdf_exporter.from_notebook_node(nb)\n",
    "    with open(output_pdf, 'wb') as f:\n",
    "        f.write(body)"
   ]
  },
  {
   "cell_type": "code",
   "execution_count": 31,
   "metadata": {},
   "outputs": [],
   "source": [
    "base_scraping_link = \"https://www.imdb.com/search/title?release_date=2023-01-01,2023-12-31&sort=boxoffice_gross_us,desc&start=\"\n",
    "top_movies = 150\n",
    "\n",
    "films = scrape_movies(base_scraping_link, int(top_movies))"
   ]
  },
  {
   "cell_type": "code",
   "execution_count": 32,
   "metadata": {},
   "outputs": [
    {
     "name": "stdout",
     "output_type": "stream",
     "text": [
      "\n",
      "\n",
      "List of top 150 movies:\n",
      "\n",
      "                                        name        year  rating  m_score  \\\n",
      "0                                     Dasara        2023     6.7      NaN   \n",
      "1                                    Wendigo    I) (2023     NaN      NaN   \n",
      "2                                       Jodi        2023     8.1      NaN   \n",
      "3                                      Malum        2023     5.1      NaN   \n",
      "4                             Shrek 2 Retold  2023 Video     8.9      NaN   \n",
      "..                                       ...         ...     ...      ...   \n",
      "145  Captain Laserhawk: A Blood Dragon Remix        2023     7.2      NaN   \n",
      "146                          It Lives Inside        2023     5.3      NaN   \n",
      "147          Percy Jackson and the Olympians      2023–      NaN      NaN   \n",
      "148                                Priscilla        2023     6.7     82.0   \n",
      "149                               Poker Face      2023–      7.9      NaN   \n",
      "\n",
      "        votes                                       genre  \n",
      "0     10027.0      \\nAction, Adventure, Drama              \n",
      "1    588300.0       \\nDrama, Horror, Thriller              \n",
      "2       374.0        \\nComedy, Drama, Romance              \n",
      "3      3881.0       \\nDrama, Horror, Thriller              \n",
      "4        19.0                     \\nAnimation              \n",
      "..        ...                                         ...  \n",
      "145    1369.0  \\nAnimation, Action, Adventure              \n",
      "146    3322.0       \\nDrama, Horror, Thriller              \n",
      "147       NaN     \\nAction, Adventure, Family              \n",
      "148     958.0       \\nBiography, Drama, Music              \n",
      "149   40849.0          \\nComedy, Crime, Drama              \n",
      "\n",
      "[150 rows x 6 columns]\n"
     ]
    }
   ],
   "source": [
    "# Print and save results\n",
    "print(\"\\n\\nList of top \" + str(top_movies) + \" movies:\\n\")\n",
    "df = pd.DataFrame(films)\n",
    "print(df)"
   ]
  },
  {
   "cell_type": "code",
   "execution_count": 33,
   "metadata": {},
   "outputs": [
    {
     "name": "stdout",
     "output_type": "stream",
     "text": [
      "List of top 150 movies saved as top_movies_2023.csv\n"
     ]
    }
   ],
   "source": [
    "# Save DataFrame to CSV\n",
    "csv_filename = \"top_movies_2023.csv\"\n",
    "df.to_csv(csv_filename, index=False)\n",
    "print(f\"List of top {top_movies} movies saved as {csv_filename}\")"
   ]
  }
 ],
 "metadata": {
  "kernelspec": {
   "display_name": "pycaretenv",
   "language": "python",
   "name": "python3"
  },
  "language_info": {
   "codemirror_mode": {
    "name": "ipython",
    "version": 3
   },
   "file_extension": ".py",
   "mimetype": "text/x-python",
   "name": "python",
   "nbconvert_exporter": "python",
   "pygments_lexer": "ipython3",
   "version": "3.10.11"
  },
  "orig_nbformat": 4
 },
 "nbformat": 4,
 "nbformat_minor": 2
}
