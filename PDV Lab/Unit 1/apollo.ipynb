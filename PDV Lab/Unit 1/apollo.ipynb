{
 "cells": [
  {
   "cell_type": "code",
   "execution_count": 3,
   "metadata": {},
   "outputs": [
    {
     "ename": "AttributeError",
     "evalue": "'NoneType' object has no attribute 'find_all'",
     "output_type": "error",
     "traceback": [
      "\u001b[1;31m---------------------------------------------------------------------------\u001b[0m",
      "\u001b[1;31mAttributeError\u001b[0m                            Traceback (most recent call last)",
      "\u001b[1;32md:\\MSIS\\Principles of Data Visualization (PDV)\\PDV Lab\\Unit 1\\apollo.ipynb Cell 1\u001b[0m line \u001b[0;36m2\n\u001b[0;32m     <a href='vscode-notebook-cell:/d%3A/MSIS/Principles%20of%20Data%20Visualization%20%28PDV%29/PDV%20Lab/Unit%201/apollo.ipynb#W0sZmlsZQ%3D%3D?line=17'>18</a>\u001b[0m mrp_values \u001b[39m=\u001b[39m []\n\u001b[0;32m     <a href='vscode-notebook-cell:/d%3A/MSIS/Principles%20of%20Data%20Visualization%20%28PDV%29/PDV%20Lab/Unit%201/apollo.ipynb#W0sZmlsZQ%3D%3D?line=19'>20</a>\u001b[0m \u001b[39m# Extract product names and MRP values\u001b[39;00m\n\u001b[1;32m---> <a href='vscode-notebook-cell:/d%3A/MSIS/Principles%20of%20Data%20Visualization%20%28PDV%29/PDV%20Lab/Unit%201/apollo.ipynb#W0sZmlsZQ%3D%3D?line=20'>21</a>\u001b[0m products \u001b[39m=\u001b[39m product_container\u001b[39m.\u001b[39;49mfind_all(\u001b[39m'\u001b[39m\u001b[39mdiv\u001b[39m\u001b[39m'\u001b[39m, class_\u001b[39m=\u001b[39m\u001b[39m'\u001b[39m\u001b[39mProductCard_product__1sQQF\u001b[39m\u001b[39m'\u001b[39m)\n\u001b[0;32m     <a href='vscode-notebook-cell:/d%3A/MSIS/Principles%20of%20Data%20Visualization%20%28PDV%29/PDV%20Lab/Unit%201/apollo.ipynb#W0sZmlsZQ%3D%3D?line=21'>22</a>\u001b[0m \u001b[39mfor\u001b[39;00m product \u001b[39min\u001b[39;00m products:\n\u001b[0;32m     <a href='vscode-notebook-cell:/d%3A/MSIS/Principles%20of%20Data%20Visualization%20%28PDV%29/PDV%20Lab/Unit%201/apollo.ipynb#W0sZmlsZQ%3D%3D?line=22'>23</a>\u001b[0m     name \u001b[39m=\u001b[39m product\u001b[39m.\u001b[39mfind(\u001b[39m'\u001b[39m\u001b[39mp\u001b[39m\u001b[39m'\u001b[39m, class_\u001b[39m=\u001b[39m\u001b[39m'\u001b[39m\u001b[39mProductCard_productName__vXoqs\u001b[39m\u001b[39m'\u001b[39m)\u001b[39m.\u001b[39mtext\u001b[39m.\u001b[39mstrip()\n",
      "\u001b[1;31mAttributeError\u001b[0m: 'NoneType' object has no attribute 'find_all'"
     ]
    }
   ],
   "source": [
    "import requests\n",
    "from bs4 import BeautifulSoup\n",
    "import csv\n",
    "\n",
    "# Send an HTTP GET request to the URL\n",
    "url = \"https://www.apollopharmacy.in/shop-by-category/apollo-food-drink\"\n",
    "response = requests.get(url)\n",
    "\n",
    "# Check if the request was successful\n",
    "if response.status_code == 200:\n",
    "    soup = BeautifulSoup(response.text, 'html.parser')\n",
    "\n",
    "    # Find the container that holds the product information\n",
    "    product_container = soup.find('div', class_='category-products')\n",
    "\n",
    "    # Create lists to store product information\n",
    "    product_names = []\n",
    "    mrp_values = []\n",
    "\n",
    "    # Extract product names and MRP values\n",
    "    products = product_container.find_all('div', class_='ProductCard_product__1sQQF')\n",
    "    for product in products:\n",
    "        name = product.find('p', class_='ProductCard_productName__vXoqs').text.strip()\n",
    "        price_group = product.find('div', class_='ProductCard_priceGroup__4D4k0')\n",
    "        mrp = price_group.find('span', class_='ProductCard_mrpText__mmKOx').find_next('span').text.strip()\n",
    "        \n",
    "        product_names.append(name)\n",
    "        mrp_values.append(mrp)\n",
    "\n",
    "    # Save the extracted information to a CSV file\n",
    "    with open('apollo_food_drink.csv', mode='w', newline='') as csv_file:\n",
    "        writer = csv.writer(csv_file)\n",
    "        writer.writerow(['Product Name', 'MRP'])\n",
    "        for i in range(len(product_names)):\n",
    "            writer.writerow([product_names[i], mrp_values[i]])\n",
    "\n",
    "    print(\"Data has been saved to apollo_food_drink.csv.\")\n",
    "else:\n",
    "    print(\"Failed to retrieve the web page. Status code:\", response.status_code)\n"
   ]
  }
 ],
 "metadata": {
  "kernelspec": {
   "display_name": "Python 3",
   "language": "python",
   "name": "python3"
  },
  "language_info": {
   "codemirror_mode": {
    "name": "ipython",
    "version": 3
   },
   "file_extension": ".py",
   "mimetype": "text/x-python",
   "name": "python",
   "nbconvert_exporter": "python",
   "pygments_lexer": "ipython3",
   "version": "3.10.11"
  }
 },
 "nbformat": 4,
 "nbformat_minor": 2
}
