{
 "cells": [
  {
   "cell_type": "markdown",
   "metadata": {},
   "source": [
    "Scraping using BS4\n",
    "Url: https://www.snapdeal.com/products/electronics-headphones?sort=plrty"
   ]
  },
  {
   "cell_type": "code",
   "execution_count": 6,
   "metadata": {},
   "outputs": [
    {
     "name": "stdout",
     "output_type": "stream",
     "text": [
      "Scraped 20 items on page 1. Total items scraped: 20\n",
      "Scraped 20 items on page 2. Total items scraped: 40\n",
      "Scraped 20 items on page 3. Total items scraped: 60\n",
      "Scraped 20 items on page 4. Total items scraped: 80\n",
      "Scraped 20 items on page 5. Total items scraped: 100\n",
      "Scraped 20 items on page 6. Total items scraped: 120\n",
      "Scraped 20 items on page 7. Total items scraped: 140\n",
      "Scraped 20 items on page 8. Total items scraped: 160\n",
      "Scraped 20 items on page 9. Total items scraped: 180\n",
      "Scraped 20 items on page 10. Total items scraped: 200\n",
      "Data from all pages has been scraped and saved to snapdeal_products.csv\n"
     ]
    }
   ],
   "source": [
    "import requests\n",
    "from bs4 import BeautifulSoup\n",
    "import csv\n",
    "\n",
    "base_url = \"https://www.snapdeal.com/products/electronics-headphones?sort=plrty&page=\"\n",
    "\n",
    "num_pages = 10\n",
    "all_product_data = []\n",
    "total_items_scraped = 0\n",
    "\n",
    "for page in range(1, num_pages + 1):\n",
    "    url = base_url + str(page)\n",
    "\n",
    "    response = requests.get(url)\n",
    "\n",
    "    if response.status_code == 200:\n",
    "        soup = BeautifulSoup(response.text, 'html.parser')\n",
    "\n",
    "        product_listings = soup.find_all('div', class_='product-tuple-description')\n",
    "        page_product_data = []\n",
    "        for product in product_listings:\n",
    "            product_name_tag = product.find('p', class_='product-title')\n",
    "            product_name = product_name_tag.get('title') if product_name_tag else 'N/A'\n",
    "            \n",
    "            brand_name = product_name.split(' ', 1)[0]\n",
    "\n",
    "            original_price_tag = product.find('span', class_='lfloat product-desc-price strike')\n",
    "            discounted_price_tag = product.find('span', class_='lfloat product-price')\n",
    "            \n",
    "            original_price = original_price_tag.text.strip() if original_price_tag else 'N/A'\n",
    "            discounted_price = discounted_price_tag.text.strip() if discounted_price_tag else 'N/A'\n",
    "\n",
    "            original_price = original_price.split(' ', 1)[1].replace(',', '').strip() if original_price != 'N/A' else 'N/A'\n",
    "            discounted_price = discounted_price.split(' ', 1)[1].replace(',', '').strip() if discounted_price != 'N/A' else 'N/A'\n",
    "\n",
    "            original_price = float(original_price) if original_price != 'N/A' else 0\n",
    "            discounted_price = float(discounted_price) if discounted_price != 'N/A' else 0\n",
    "\n",
    "            percentage_discount = ((original_price - discounted_price) / original_price) * 100\n",
    "\n",
    "            page_product_data.append([brand_name, product_name, original_price, discounted_price, percentage_discount])\n",
    "\n",
    "        items_on_page = len(page_product_data)\n",
    "        total_items_scraped += items_on_page\n",
    "\n",
    "        all_product_data.extend(page_product_data)\n",
    "\n",
    "        print(f\"Scraped {items_on_page} items on page {page}. Total items scraped: {total_items_scraped}\")\n",
    "\n",
    "    else:\n",
    "        print(f\"Failed to retrieve page {page}. Status code:\", response.status_code)\n",
    "\n",
    "with open('snapdeal_products.csv', 'w', newline='') as csvfile:\n",
    "    csv_writer = csv.writer(csvfile)\n",
    "    csv_writer.writerow(['Brand Name', 'Product Name', 'Original Price', 'Discounted Price', 'Percentage Discount'])\n",
    "    csv_writer.writerows(all_product_data)\n",
    "\n",
    "print(\"Data from all pages has been scraped and saved to snapdeal_products.csv\")\n"
   ]
  }
 ],
 "metadata": {
  "kernelspec": {
   "display_name": "Python 3",
   "language": "python",
   "name": "python3"
  },
  "language_info": {
   "codemirror_mode": {
    "name": "ipython",
    "version": 3
   },
   "file_extension": ".py",
   "mimetype": "text/x-python",
   "name": "python",
   "nbconvert_exporter": "python",
   "pygments_lexer": "ipython3",
   "version": "3.10.11"
  }
 },
 "nbformat": 4,
 "nbformat_minor": 2
}
