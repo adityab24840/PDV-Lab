{
 "cells": [
  {
   "cell_type": "markdown",
   "metadata": {},
   "source": [
    "Use BeautifulSoup to scrape the International Movies Database (IMDB) at imdb.com for top films released in year 2023 with the highest US box office. \n",
    "\n",
    "This is multi-page scraping\n",
    "The scrape_movies function is responsible for this multi-page scraping.\n",
    "\n",
    "(https://www.imdb.com/search/title/?release_date=2023&sort=boxoffice_gross_us,desc&start=1)\n",
    "using 5 features\n",
    "1. name - title of the movie,\n",
    "2. year - release year of the movie,\n",
    "3. imdb - IMDB score of the movie,\n",
    "4. vote - number of votes.\n",
    "5. rating - imdb rating"
   ]
  },
  {
   "cell_type": "markdown",
   "metadata": {},
   "source": [
    "# Steps:\n",
    "\n",
    "Import Required Libraries: The code begins by importing the necessary libraries, including bs4 for web scraping, requests for making HTTP requests, time for adding delays, random for generating random numbers, and pandas for handling data.\n",
    "\n",
    "# Define Scraping Functions:\n",
    "\n",
    "## scrape_mblock: \n",
    "This function takes a movie block as input and extracts information such as movie name, release year, IMDb rating, Metascore, and number of votes.\n",
    "## scrape_page: \n",
    "This function takes a list of movie blocks and iterates through each block to extract data using the scrape_mblock function.\n",
    "\n",
    "## scrape_movies: \n",
    "This function performs multi-page scraping by repeatedly fetching data from IMDb pages, extracting information from each page, and accumulating the results. It stops when the desired number of movies is collected.\n",
    "\n",
    "## Main Execution:\n",
    "The main execution block starts by defining the base URL for scraping IMDb data. It then specifies the target number of top movies to be scraped.\n",
    "\n",
    "## Perform Scraping: \n",
    "The scrape_movies function is called with the base URL and target count as parameters. This function performs multi-page scraping and collects data about the top movies of 2023.\n",
    "\n",
    "## Print and Save Results: \n",
    "The scraped data is then converted into a Pandas DataFrame for easier handling. The code prints the collected data to the console and saves it as a CSV file named top_movies_2023.csv.\n",
    "\n",
    "## Use Case Completion:\n",
    "Once the script is executed, it fetches data about the top movies of 2023 from IMDb, processes it, and provides both a printed summary and a saved CSV file containing the data. This data can be further analyzed or used for various purposes, such as creating visualizations or generating reports."
   ]
  },
  {
   "cell_type": "code",
   "execution_count": 20,
   "metadata": {},
   "outputs": [],
   "source": [
    "import bs4\n",
    "import requests\n",
    "import time\n",
    "import random as ran\n",
    "import pandas as pd\n",
    "from nbconvert import PDFExporter\n",
    "import nbformat"
   ]
  },
  {
   "cell_type": "markdown",
   "metadata": {},
   "source": [
    "# Function to scrape a single movie block"
   ]
  },
  {
   "cell_type": "code",
   "execution_count": 21,
   "metadata": {},
   "outputs": [],
   "source": [
    "def scrape_mblock(movie_block):    \n",
    "    # Extract various elements from the movie block\n",
    "    name_element = movie_block.find('a')\n",
    "    year_element = movie_block.find('span', {'class': 'lister-item-year'})\n",
    "    rating_element = movie_block.find('div', {'class': 'inline-block ratings-imdb-rating'})\n",
    "    m_score_element = movie_block.find('span', {'class': 'metascore favorable'})\n",
    "    votes_element = movie_block.find('span', {'name': 'nv'})\n",
    "    return {\n",
    "        'name': name_element.get_text() if name_element else None,\n",
    "        'year': year_element.contents[0][1:-1] if year_element else None,\n",
    "        'rating': float(rating_element.get('data-value')) if rating_element else None,\n",
    "        'm_score': float(m_score_element.contents[0].strip()) if m_score_element else None,\n",
    "        'votes': int(votes_element.get('data-value').replace(',', '')) if votes_element else None\n",
    "    }"
   ]
  },
  {
   "cell_type": "markdown",
   "metadata": {},
   "source": [
    "# Function to scrape a page of movie blocks\n"
   ]
  },
  {
   "cell_type": "code",
   "execution_count": 22,
   "metadata": {},
   "outputs": [],
   "source": [
    "def scrape_page(movie_blocks):\n",
    "    return [scrape_mblock(movie_block) for movie_block in movie_blocks]"
   ]
  },
  {
   "cell_type": "markdown",
   "metadata": {},
   "source": [
    "# Function to perform multi-page scraping"
   ]
  },
  {
   "cell_type": "code",
   "execution_count": 23,
   "metadata": {},
   "outputs": [],
   "source": [
    "def scrape_movies(link, target_count):\n",
    "    movie_data = []\n",
    "    page_number = 1\n",
    "    \n",
    "    while len(movie_data) < target_count:\n",
    "        url = link + str(page_number)\n",
    "        source = requests.get(url).text\n",
    "        soup = bs4.BeautifulSoup(source, 'html.parser')\n",
    "        movie_blocks = soup.findAll('div', {'class': 'lister-item-content'})\n",
    "        \n",
    "        if not movie_blocks:\n",
    "            break\n",
    "        \n",
    "        movie_data.extend(scrape_page(movie_blocks))\n",
    "        page_number += 50\n",
    "        time.sleep(ran.randint(0, 10))\n",
    "    \n",
    "    return movie_data"
   ]
  },
  {
   "cell_type": "markdown",
   "metadata": {},
   "source": [
    "# Main execution"
   ]
  },
  {
   "cell_type": "code",
   "execution_count": 24,
   "metadata": {},
   "outputs": [],
   "source": [
    "base_scraping_link = \"https://www.imdb.com/search/title?release_date=2023-01-01,2023-12-31&sort=boxoffice_gross_us,desc&start=\"\n",
    "top_movies = 150\n",
    "\n",
    "films = scrape_movies(base_scraping_link, int(top_movies))"
   ]
  },
  {
   "cell_type": "code",
   "execution_count": 25,
   "metadata": {},
   "outputs": [
    {
     "name": "stdout",
     "output_type": "stream",
     "text": [
      "\n",
      "\n",
      "List of top 150 movies:\n",
      "\n",
      "                          name      year  rating  m_score     votes\n",
      "0                         Jodi      2023     8.1      NaN     363.0\n",
      "1               Shrek 2 Retold      2023     NaN      NaN  150659.0\n",
      "2            Sit Down Stand Up      2023     NaN      NaN   88388.0\n",
      "3                        R BnB      2023     9.1      NaN      11.0\n",
      "4            King of the Block      2023     NaN      NaN    5497.0\n",
      "..                         ...       ...     ...      ...       ...\n",
      "145                 The Nun II      2023     NaN      NaN       NaN\n",
      "146                    Ghosted  I) (2023     5.8      NaN   50639.0\n",
      "147  Jagun Jagun (The Warrior)      2023     3.6      NaN     596.0\n",
      "148                      FUBAR    2023–      6.5      NaN   31825.0\n",
      "149                 Past Lives      2023     8.3     94.0   10097.0\n",
      "\n",
      "[150 rows x 5 columns]\n"
     ]
    }
   ],
   "source": [
    "# Print and save results\n",
    "print(\"\\n\\nList of top \" + str(top_movies) + \" movies:\\n\")\n",
    "df = pd.DataFrame(films)\n",
    "print(df)"
   ]
  },
  {
   "cell_type": "code",
   "execution_count": 26,
   "metadata": {},
   "outputs": [
    {
     "name": "stdout",
     "output_type": "stream",
     "text": [
      "List of top 150 movies saved as top_movies_2023.csv\n"
     ]
    }
   ],
   "source": [
    "# Save DataFrame to CSV\n",
    "csv_filename = \"top_movies_2023.csv\"\n",
    "df.to_csv(csv_filename, index=False)\n",
    "print(f\"List of top {top_movies} movies saved as {csv_filename}\")"
   ]
  }
 ],
 "metadata": {
  "kernelspec": {
   "display_name": "pycaretenv",
   "language": "python",
   "name": "python3"
  },
  "language_info": {
   "codemirror_mode": {
    "name": "ipython",
    "version": 3
   },
   "file_extension": ".py",
   "mimetype": "text/x-python",
   "name": "python",
   "nbconvert_exporter": "python",
   "pygments_lexer": "ipython3",
   "version": "3.9.17"
  },
  "orig_nbformat": 4
 },
 "nbformat": 4,
 "nbformat_minor": 2
}
