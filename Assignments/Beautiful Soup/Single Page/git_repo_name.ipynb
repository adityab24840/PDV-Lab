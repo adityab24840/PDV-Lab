{
 "cells": [
  {
   "cell_type": "code",
   "execution_count": 1,
   "metadata": {},
   "outputs": [],
   "source": [
    "from bs4 import BeautifulSoup\n",
    "import requests\n",
    "import pandas as pd"
   ]
  },
  {
   "cell_type": "code",
   "execution_count": 2,
   "metadata": {},
   "outputs": [],
   "source": [
    "url = 'https://github.com/adityab24840?tab=repositories'\n",
    "response = requests.get(url)\n",
    "soup = BeautifulSoup(response.content, 'html.parser')"
   ]
  },
  {
   "cell_type": "code",
   "execution_count": 3,
   "metadata": {},
   "outputs": [
    {
     "ename": "NameError",
     "evalue": "name 'repositories' is not defined",
     "output_type": "error",
     "traceback": [
      "\u001b[1;31m---------------------------------------------------------------------------\u001b[0m",
      "\u001b[1;31mNameError\u001b[0m                                 Traceback (most recent call last)",
      "Cell \u001b[1;32mIn[3], line 1\u001b[0m\n\u001b[1;32m----> 1\u001b[0m \u001b[39mfor\u001b[39;00m repo \u001b[39min\u001b[39;00m repositories:\n\u001b[0;32m      2\u001b[0m     name\u001b[39m.\u001b[39mappend(repo\u001b[39m.\u001b[39mfind(class_\u001b[39m=\u001b[39m\u001b[39m'\u001b[39m\u001b[39mwb-break-all\u001b[39m\u001b[39m'\u001b[39m)\u001b[39m.\u001b[39mtext\u001b[39m.\u001b[39mstrip())\n\u001b[0;32m      3\u001b[0m     date\u001b[39m.\u001b[39mappend(repo\u001b[39m.\u001b[39mfind(\u001b[39m'\u001b[39m\u001b[39mrelative-time\u001b[39m\u001b[39m'\u001b[39m)\u001b[39m.\u001b[39mattrs[\u001b[39m'\u001b[39m\u001b[39mdatetime\u001b[39m\u001b[39m'\u001b[39m])\n",
      "\u001b[1;31mNameError\u001b[0m: name 'repositories' is not defined"
     ]
    }
   ],
   "source": [
    "for repo in repositories:\n",
    "    name.append(repo.find(class_='wb-break-all').text.strip())\n",
    "    date.append(repo.find('relative-time').attrs['datetime'])"
   ]
  },
  {
   "cell_type": "code",
   "execution_count": null,
   "metadata": {},
   "outputs": [],
   "source": [
    "df = pd.DataFrame({'Name': name, 'Date': date})\n",
    "df.to_csv('repositories.csv', index=False)"
   ]
  }
 ],
 "metadata": {
  "kernelspec": {
   "display_name": "pycaretenv",
   "language": "python",
   "name": "python3"
  },
  "language_info": {
   "codemirror_mode": {
    "name": "ipython",
    "version": 3
   },
   "file_extension": ".py",
   "mimetype": "text/x-python",
   "name": "python",
   "nbconvert_exporter": "python",
   "pygments_lexer": "ipython3",
   "version": "3.9.17"
  },
  "orig_nbformat": 4
 },
 "nbformat": 4,
 "nbformat_minor": 2
}
