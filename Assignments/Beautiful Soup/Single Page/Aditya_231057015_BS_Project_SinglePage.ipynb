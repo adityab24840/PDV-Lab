{
 "cells": [
  {
   "cell_type": "markdown",
   "metadata": {},
   "source": [
    "# Single Page \n",
    "### Use Case: \n",
    "Scrape GitHub Repository Data\n",
    "\n",
    "### Objective: \n",
    "The objective of this use case is to scrape data about GitHub repositories from a user's profile page. The data to be collected includes repository names and creation dates.\n",
    "\n",
    "### Steps:\n",
    "\n",
    "### Import Required Libraries: \n",
    "The code starts by importing the necessary libraries, including BeautifulSoup for HTML parsing and requests for making HTTP requests.\n",
    "\n",
    "## Fetch and Parse Webpage:\n",
    "The code sends an HTTP GET request to a specific GitHub user's repository tab URL.\n",
    "The response content is parsed using BeautifulSoup to create a structured representation of the HTML.\n",
    "\n",
    "### Scrape Repository Data:\n",
    "The code selects all repository list items using a CSS selector.\n",
    "It iterates through each repository list item to extract the repository name and creation date.\n",
    "Extracted data is stored in separate lists.\n",
    "\n",
    "### Create DataFrame:\n",
    "A Pandas DataFrame is created using the extracted repository name and creation date.\n",
    "\n",
    "### Save Data to CSV:\n",
    "The DataFrame is saved to a CSV file named repositories.csv."
   ]
  },
  {
   "cell_type": "code",
   "execution_count": 14,
   "metadata": {},
   "outputs": [],
   "source": [
    "from bs4 import BeautifulSoup\n",
    "import requests\n",
    "import pandas as pd"
   ]
  },
  {
   "cell_type": "code",
   "execution_count": 15,
   "metadata": {},
   "outputs": [],
   "source": [
    "url = 'https://github.com/adityab24840?tab=repositories'\n",
    "response = requests.get(url)\n",
    "soup = BeautifulSoup(response.content, 'html.parser')"
   ]
  },
  {
   "cell_type": "code",
   "execution_count": 16,
   "metadata": {},
   "outputs": [],
   "source": [
    "repositories = soup.select('#user-repositories-list li')\n",
    "name = []\n",
    "date = []\n",
    "description = []\n",
    "\n",
    "for repo in repositories:\n",
    "    name.append(repo.find(class_='wb-break-all').text.strip())\n",
    "    date.append(repo.find('relative-time').attrs['datetime'])"
   ]
  },
  {
   "cell_type": "code",
   "execution_count": 17,
   "metadata": {},
   "outputs": [
    {
     "name": "stdout",
     "output_type": "stream",
     "text": [
      "The repo list is saved as repositories.csv and the deatils of few repo are as follow:\n"
     ]
    },
    {
     "data": {
      "text/html": [
       "<div>\n",
       "<style scoped>\n",
       "    .dataframe tbody tr th:only-of-type {\n",
       "        vertical-align: middle;\n",
       "    }\n",
       "\n",
       "    .dataframe tbody tr th {\n",
       "        vertical-align: top;\n",
       "    }\n",
       "\n",
       "    .dataframe thead th {\n",
       "        text-align: right;\n",
       "    }\n",
       "</style>\n",
       "<table border=\"1\" class=\"dataframe\">\n",
       "  <thead>\n",
       "    <tr style=\"text-align: right;\">\n",
       "      <th></th>\n",
       "      <th>Name</th>\n",
       "      <th>Date</th>\n",
       "    </tr>\n",
       "  </thead>\n",
       "  <tbody>\n",
       "    <tr>\n",
       "      <th>0</th>\n",
       "      <td>PDV-Lab\\nPublic</td>\n",
       "      <td>2023-08-25T21:31:49Z</td>\n",
       "    </tr>\n",
       "    <tr>\n",
       "      <th>1</th>\n",
       "      <td>adityab24840\\nPublic</td>\n",
       "      <td>2023-08-25T21:30:49Z</td>\n",
       "    </tr>\n",
       "    <tr>\n",
       "      <th>2</th>\n",
       "      <td>AML-Lab\\nPublic</td>\n",
       "      <td>2023-08-24T13:13:17Z</td>\n",
       "    </tr>\n",
       "    <tr>\n",
       "      <th>3</th>\n",
       "      <td>ADS\\nPublic</td>\n",
       "      <td>2023-08-24T04:55:28Z</td>\n",
       "    </tr>\n",
       "    <tr>\n",
       "      <th>4</th>\n",
       "      <td>ASP_lab\\nPublic</td>\n",
       "      <td>2023-08-23T05:13:40Z</td>\n",
       "    </tr>\n",
       "  </tbody>\n",
       "</table>\n",
       "</div>"
      ],
      "text/plain": [
       "                   Name                  Date\n",
       "0       PDV-Lab\\nPublic  2023-08-25T21:31:49Z\n",
       "1  adityab24840\\nPublic  2023-08-25T21:30:49Z\n",
       "2       AML-Lab\\nPublic  2023-08-24T13:13:17Z\n",
       "3           ADS\\nPublic  2023-08-24T04:55:28Z\n",
       "4       ASP_lab\\nPublic  2023-08-23T05:13:40Z"
      ]
     },
     "execution_count": 17,
     "metadata": {},
     "output_type": "execute_result"
    }
   ],
   "source": [
    "df = pd.DataFrame({'Name': name, 'Date': date})\n",
    "# Save DataFrame to CSV\n",
    "csv_filename = \"repositories.csv\"\n",
    "df.to_csv(csv_filename, index=False)\n",
    "print(f\"The repo list is saved as {csv_filename} and the deatils of few repo are as follow:\")\n",
    "df.head()"
   ]
  }
 ],
 "metadata": {
  "kernelspec": {
   "display_name": "pycaretenv",
   "language": "python",
   "name": "python3"
  },
  "language_info": {
   "codemirror_mode": {
    "name": "ipython",
    "version": 3
   },
   "file_extension": ".py",
   "mimetype": "text/x-python",
   "name": "python",
   "nbconvert_exporter": "python",
   "pygments_lexer": "ipython3",
   "version": "3.9.17"
  },
  "orig_nbformat": 4
 },
 "nbformat": 4,
 "nbformat_minor": 2
}
