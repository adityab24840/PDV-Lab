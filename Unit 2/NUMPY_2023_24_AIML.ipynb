{
  "cells": [
    {
      "cell_type": "markdown",
      "source": [
        "# **Numpy**\n",
        "* NumPy, short for Numerical Python, is one of the most important foundational packages for numerical computing in Python.\n",
        "* Most computational packages providing scientific functionality use NumPy's array objects as the entity for data exchange.\n",
        "* Some of the unique features find in NumPy:\n",
        "  * ndarray, an efficient multidimensional array providing **fast array-oriented arithmetic operations** and flexible broadcasting capabilities.\n",
        "  * Mathematical functions for **fast operations on entire arrays of data without having to write loops**.\n",
        "  * Tools for reading/writing array **data to disk** and **working with memory-mapped** files.\n",
        "  * Linear algebra, random number generation, and Fourier transform capabilities.\n",
        "  * A **C API for connecting NumPy with libraries** written in C, C++, or FORTRAN."
      ],
      "metadata": {
        "id": "APs5LPKBpITz"
      }
    },
    {
      "cell_type": "markdown",
      "source": [
        "**For most data analysis applications, the main areas of functionality focused on are:**\n",
        "  * Fast vectorized array operations for data munging and cleaning, subsetting and filtering, transformation, and any other kinds of computations.\n",
        "  * Common array algorithms like sorting, unique, and set operations\n",
        "  * Efficient descriptive statistics and aggregating/summarizing data\n",
        "  * Data alignment and relational data manipulations for merging and joining\n",
        "together heterogeneous datasets\n",
        "  * Expressing conditional logic as array expressions instead of loops with if-elifelse branches\n",
        "  * Group-wise data manipulations (aggregation, transformation, function application)"
      ],
      "metadata": {
        "id": "YgX24bJ6pvP7"
      }
    },
    {
      "cell_type": "markdown",
      "source": [
        "**One of the reasons NumPy is so important for numerical computations in Python is because it is designed for efficiency on large arrays of data. There are a number of reasons for this:**\n",
        "  * NumPy internally stores data in a contiguous block of memory, independent of other built-in Python objects. NumPy's library of algorithms written in the C language can operate on this memory without any type checking or other overhead.\n",
        "  * NumPy arrays also use much less memory than built-in Python sequences.\n",
        "  * NumPy operations perform complex computations on entire arrays without the need for Python for loops."
      ],
      "metadata": {
        "id": "BsHs4lT_q3N7"
      }
    },
    {
      "cell_type": "markdown",
      "source": [
        "**To measure performance difference, consider a NumPy array of one million integers, and the equivalent Python list:**\n"
      ],
      "metadata": {
        "id": "ueWCJ9plrKUC"
      }
    },
    {
      "cell_type": "markdown",
      "metadata": {
        "deletable": true,
        "editable": true,
        "id": "UhHEW7TRoyOF"
      },
      "source": [
        "# NumPy Basics: Arrays and Vectorized Computation"
      ]
    },
    {
      "cell_type": "code",
      "execution_count": 2,
      "metadata": {
        "deletable": true,
        "editable": true,
        "id": "hyEyVgzCoyOM"
      },
      "outputs": [],
      "source": [
        "import numpy as np\n",
        "my_arr = np.arange(1000000)\n",
        "my_list = list(range(1000000))"
      ]
    },
    {
      "cell_type": "code",
      "execution_count": null,
      "metadata": {
        "deletable": true,
        "editable": true,
        "colab": {
          "base_uri": "https://localhost:8080/"
        },
        "id": "YbyhVzM6oyOO",
        "outputId": "02c59b29-acb9-4692-e219-56f06b43b3a9"
      },
      "outputs": [
        {
          "output_type": "stream",
          "name": "stdout",
          "text": [
            "CPU times: user 17 ms, sys: 11.7 ms, total: 28.7 ms\n",
            "Wall time: 32.1 ms\n",
            "CPU times: user 615 ms, sys: 253 ms, total: 868 ms\n",
            "Wall time: 881 ms\n"
          ]
        }
      ],
      "source": [
        "%time for _ in range(10): my_arr2 = my_arr * 2\n",
        "%time for _ in range(10): my_list2 = [x * 2 for x in my_list]"
      ]
    },
    {
      "cell_type": "markdown",
      "metadata": {
        "deletable": true,
        "editable": true,
        "id": "OFclrOxCoyOQ"
      },
      "source": [
        "## The NumPy ndarray: A Multidimensional Array Object\n",
        "\n",
        "* Ndarray is the n-dimensional array object defined in the numpy which stores the collection of the similar type of elements. In other words, we can define a ndarray as the collection of the data type (dtype) objects.\n",
        "* The ndarray object can be accessed by using the 0 based indexing.\n",
        "* Each element of the Array object contains the same size in the memory.\n"
      ]
    },
    {
      "cell_type": "markdown",
      "source": [
        "* One of the key features of NumPy is its N-dimensional array object, or ndarray, which is a fast, flexible container for large datasets in Python.\n",
        "* Arrays enable you to perform mathematical operations on whole blocks of data using similar syntax to the equivalent operations between scalar elements."
      ],
      "metadata": {
        "id": "BMZIpq8p414C"
      }
    },
    {
      "cell_type": "code",
      "execution_count": null,
      "metadata": {
        "deletable": true,
        "editable": true,
        "colab": {
          "base_uri": "https://localhost:8080/"
        },
        "id": "rOEKLskIoyOS",
        "outputId": "fbe08adb-ff0c-4b22-9734-60a4c6eb66a0"
      },
      "outputs": [
        {
          "output_type": "execute_result",
          "data": {
            "text/plain": [
              "array([[-0.17406534,  0.72676218,  0.63145288],\n",
              "       [ 0.26957633,  0.09079359,  0.80024226]])"
            ]
          },
          "metadata": {},
          "execution_count": 2
        }
      ],
      "source": [
        "data = np.random.randn(2, 3)\n",
        "data"
      ]
    },
    {
      "cell_type": "code",
      "execution_count": null,
      "metadata": {
        "deletable": true,
        "editable": true,
        "colab": {
          "base_uri": "https://localhost:8080/"
        },
        "id": "uh3kPVdCoyOT",
        "outputId": "8424c85b-177c-4ff7-b34b-a7e950592a93"
      },
      "outputs": [
        {
          "output_type": "execute_result",
          "data": {
            "text/plain": [
              "array([[-1.74065344,  7.26762181,  6.31452884],\n",
              "       [ 2.69576331,  0.90793595,  8.00242258]])"
            ]
          },
          "metadata": {},
          "execution_count": 3
        }
      ],
      "source": [
        "data * 10"
      ]
    },
    {
      "cell_type": "markdown",
      "source": [
        "* In the above example all of the elements have been multiplied by 10."
      ],
      "metadata": {
        "id": "mMRFyGMub3M7"
      }
    },
    {
      "cell_type": "code",
      "source": [
        "data + data"
      ],
      "metadata": {
        "colab": {
          "base_uri": "https://localhost:8080/"
        },
        "id": "NfP2O_vjbgi9",
        "outputId": "c368c1d9-a667-440d-eda1-b8cad21f5fc6"
      },
      "execution_count": null,
      "outputs": [
        {
          "output_type": "execute_result",
          "data": {
            "text/plain": [
              "array([[-0.34813069,  1.45352436,  1.26290577],\n",
              "       [ 0.53915266,  0.18158719,  1.60048452]])"
            ]
          },
          "metadata": {},
          "execution_count": 4
        }
      ]
    },
    {
      "cell_type": "markdown",
      "source": [
        "* In the above example the corresponding values in each “cell” in the array have been added to each other."
      ],
      "metadata": {
        "id": "7PbI8QW2b9Po"
      }
    },
    {
      "cell_type": "markdown",
      "source": [
        "* An ndarray is a generic multidimensional container for homogeneous data; that is, all of the elements must be the same type.\n",
        "* Every array has a shape, a tuple indicating the size of each dimension, and a dtype, an object describing the data type of the array:"
      ],
      "metadata": {
        "id": "150UpjLPcTDT"
      }
    },
    {
      "cell_type": "code",
      "execution_count": null,
      "metadata": {
        "deletable": true,
        "editable": true,
        "colab": {
          "base_uri": "https://localhost:8080/"
        },
        "id": "IZMS-my1oyOU",
        "outputId": "60568962-9a57-4c78-d9cb-43fc3377f567"
      },
      "outputs": [
        {
          "output_type": "execute_result",
          "data": {
            "text/plain": [
              "(2, 3)"
            ]
          },
          "metadata": {},
          "execution_count": 5
        }
      ],
      "source": [
        "data.shape"
      ]
    },
    {
      "cell_type": "code",
      "source": [
        "data.dtype"
      ],
      "metadata": {
        "colab": {
          "base_uri": "https://localhost:8080/"
        },
        "id": "_X5ycTSvbtUX",
        "outputId": "aed18392-55eb-4f56-df68-782153bede83"
      },
      "execution_count": null,
      "outputs": [
        {
          "output_type": "execute_result",
          "data": {
            "text/plain": [
              "dtype('float64')"
            ]
          },
          "metadata": {},
          "execution_count": 6
        }
      ]
    },
    {
      "cell_type": "markdown",
      "metadata": {
        "deletable": true,
        "editable": true,
        "id": "b6UgoIVdoyOV"
      },
      "source": [
        "### Creating ndarrays\n",
        "\n",
        "* The easiest way to create an array is to use the array function. This accepts any sequence-like object (including other arrays) and produces a new NumPy array containing the passed data.\n",
        "\n",
        "* The syntax is given below\n",
        "\n",
        "\n",
        "\n",
        "  > **numpy.array(object, dtype = None, copy = True, order = None, subok = False, ndmin = 0)**\n",
        "\n",
        "* The parameters are described in the following table\n",
        "\n",
        "<p align=\"center\">\n",
        "    <img src=\"http://raghudathesh.weebly.com/uploads/4/8/9/6/48968251/3_orig.png\">\n",
        "</p>\n",
        "\n",
        "\n",
        "* For example, a list is a good candidate for conversion:"
      ]
    },
    {
      "cell_type": "code",
      "execution_count": null,
      "metadata": {
        "deletable": true,
        "editable": true,
        "colab": {
          "base_uri": "https://localhost:8080/"
        },
        "id": "VYDB_j9xoyOX",
        "outputId": "adb6c30b-d7b1-42b8-e696-b04bf8526bd9"
      },
      "outputs": [
        {
          "output_type": "execute_result",
          "data": {
            "text/plain": [
              "array([6. , 7.5, 8. , 0. , 1. ])"
            ]
          },
          "metadata": {},
          "execution_count": 7
        }
      ],
      "source": [
        "data1 = [6, 7.5, 8, 0, 1]\n",
        "arr1 = np.array(data1)\n",
        "arr1"
      ]
    },
    {
      "cell_type": "markdown",
      "source": [
        "* Nested sequences, like a list of equal-length lists, will be converted into a multidimensional array:"
      ],
      "metadata": {
        "id": "QfYzaUV0c3Gs"
      }
    },
    {
      "cell_type": "code",
      "execution_count": null,
      "metadata": {
        "deletable": true,
        "editable": true,
        "id": "Dfc4RYvwoyOX",
        "colab": {
          "base_uri": "https://localhost:8080/"
        },
        "outputId": "1e1b5c78-5090-4f4d-ac54-97abe6a6ce30"
      },
      "outputs": [
        {
          "output_type": "execute_result",
          "data": {
            "text/plain": [
              "array([[1, 2, 3, 4],\n",
              "       [5, 6, 7, 8]])"
            ]
          },
          "metadata": {},
          "execution_count": 8
        }
      ],
      "source": [
        "data2 = [[1, 2, 3, 4], [5, 6, 7, 8]]\n",
        "arr2 = np.array(data2)\n",
        "arr2"
      ]
    },
    {
      "cell_type": "markdown",
      "source": [
        "* Since data2 was a list of lists, the NumPy array arr2 has two dimensions with shape inferred from the data.\n",
        "* We can confirm this by inspecting the ndim and shape attributes:"
      ],
      "metadata": {
        "id": "K7zQhImndAXD"
      }
    },
    {
      "cell_type": "code",
      "execution_count": null,
      "metadata": {
        "deletable": true,
        "editable": true,
        "id": "usGj9DvGoyOY",
        "colab": {
          "base_uri": "https://localhost:8080/"
        },
        "outputId": "928a5715-276c-4183-bc91-a7f743cc4c6f"
      },
      "outputs": [
        {
          "output_type": "execute_result",
          "data": {
            "text/plain": [
              "(2, 4)"
            ]
          },
          "metadata": {},
          "execution_count": 9
        }
      ],
      "source": [
        "arr2.ndim"
      ]
    },
    {
      "cell_type": "code",
      "source": [
        "arr2.shape"
      ],
      "metadata": {
        "colab": {
          "base_uri": "https://localhost:8080/"
        },
        "id": "XsTRKLSRdF53",
        "outputId": "1c02fa67-692f-43ab-de91-138c61cf7993"
      },
      "execution_count": null,
      "outputs": [
        {
          "output_type": "execute_result",
          "data": {
            "text/plain": [
              "(2, 4)"
            ]
          },
          "metadata": {},
          "execution_count": 10
        }
      ]
    },
    {
      "cell_type": "markdown",
      "source": [
        "* Unless explicitly specified (more on this later), np.array tries to infer a good data type (like int, foat etc) for the array that it creates.\n",
        "* The data type is stored in a special dtype metadata object; for example, in the previous two examples we have:"
      ],
      "metadata": {
        "id": "B5IvIR9GdN55"
      }
    },
    {
      "cell_type": "code",
      "execution_count": null,
      "metadata": {
        "deletable": true,
        "editable": true,
        "id": "dimYKCDjoyOZ",
        "colab": {
          "base_uri": "https://localhost:8080/"
        },
        "outputId": "df98cd13-2756-41ec-8d26-809d5f4bf397"
      },
      "outputs": [
        {
          "output_type": "execute_result",
          "data": {
            "text/plain": [
              "dtype('float64')"
            ]
          },
          "metadata": {},
          "execution_count": 11
        }
      ],
      "source": [
        "arr1.dtype"
      ]
    },
    {
      "cell_type": "code",
      "source": [
        "arr2.dtype"
      ],
      "metadata": {
        "colab": {
          "base_uri": "https://localhost:8080/"
        },
        "id": "y1Wqt9brdUKy",
        "outputId": "a8c4af38-218f-49da-ab29-7ab6851ecd3a"
      },
      "execution_count": null,
      "outputs": [
        {
          "output_type": "execute_result",
          "data": {
            "text/plain": [
              "dtype('int64')"
            ]
          },
          "metadata": {},
          "execution_count": 12
        }
      ]
    },
    {
      "cell_type": "markdown",
      "source": [
        "* In addition to np.array, there are a number of other functions for creating new arrays."
      ],
      "metadata": {
        "id": "p1xGCHF8de7s"
      }
    },
    {
      "cell_type": "markdown",
      "source": [
        "# Ex:\n",
        "* zeros and ones create arrays of 0s or 1s, respectively, with a given length or shape.\n",
        "* Empty creates an array without initializing its values to any particular value.\n",
        "* To create a higher dimensional array with these methods, pass a tuple for the shape:"
      ],
      "metadata": {
        "id": "jOqDieVwdiBA"
      }
    },
    {
      "cell_type": "code",
      "execution_count": null,
      "metadata": {
        "deletable": true,
        "editable": true,
        "id": "mXSK9TRgoyOZ",
        "colab": {
          "base_uri": "https://localhost:8080/"
        },
        "outputId": "a151473d-a917-4727-f6e0-ab1d091916dc"
      },
      "outputs": [
        {
          "output_type": "execute_result",
          "data": {
            "text/plain": [
              "array([0., 0., 0., 0., 0., 0., 0., 0., 0., 0.])"
            ]
          },
          "metadata": {},
          "execution_count": 13
        }
      ],
      "source": [
        "np.zeros(10)"
      ]
    },
    {
      "cell_type": "code",
      "source": [
        "np.zeros((3, 6))"
      ],
      "metadata": {
        "colab": {
          "base_uri": "https://localhost:8080/"
        },
        "id": "IhIQFQfEd08A",
        "outputId": "421c479a-46eb-49e5-e6e9-80c4f5e3126b"
      },
      "execution_count": null,
      "outputs": [
        {
          "output_type": "execute_result",
          "data": {
            "text/plain": [
              "array([[0., 0., 0., 0., 0., 0.],\n",
              "       [0., 0., 0., 0., 0., 0.],\n",
              "       [0., 0., 0., 0., 0., 0.]])"
            ]
          },
          "metadata": {},
          "execution_count": 15
        }
      ]
    },
    {
      "cell_type": "code",
      "source": [
        "np.empty((2, 3, 2))"
      ],
      "metadata": {
        "colab": {
          "base_uri": "https://localhost:8080/"
        },
        "id": "tZcMIxv3d3aF",
        "outputId": "ba26b930-22c8-4a18-d39d-52628c59898c"
      },
      "execution_count": null,
      "outputs": [
        {
          "output_type": "execute_result",
          "data": {
            "text/plain": [
              "array([[[5.06245341e-310, 0.00000000e+000],\n",
              "        [0.00000000e+000, 0.00000000e+000],\n",
              "        [0.00000000e+000, 0.00000000e+000]],\n",
              "\n",
              "       [[0.00000000e+000, 0.00000000e+000],\n",
              "        [0.00000000e+000, 0.00000000e+000],\n",
              "        [0.00000000e+000, 0.00000000e+000]]])"
            ]
          },
          "metadata": {},
          "execution_count": 16
        }
      ]
    },
    {
      "cell_type": "markdown",
      "source": [
        "# Note:\n",
        "* It’s not safe to assume that np.empty will return an array of all zeros.\n",
        "* In some cases, it may return uninitialized “garbage” values."
      ],
      "metadata": {
        "id": "fV0FfY00eDQA"
      }
    },
    {
      "cell_type": "markdown",
      "source": [
        "* **arange** is an array-valued version of the built-in Python range function:"
      ],
      "metadata": {
        "id": "BxfOlkOzeRpU"
      }
    },
    {
      "cell_type": "code",
      "execution_count": null,
      "metadata": {
        "deletable": true,
        "editable": true,
        "id": "tSt0uNWpoyOa",
        "colab": {
          "base_uri": "https://localhost:8080/"
        },
        "outputId": "cea28118-ef89-4761-91a6-0a14c2e364d8"
      },
      "outputs": [
        {
          "output_type": "execute_result",
          "data": {
            "text/plain": [
              "array([ 0,  1,  2,  3,  4,  5,  6,  7,  8,  9, 10, 11, 12, 13, 14])"
            ]
          },
          "metadata": {},
          "execution_count": 17
        }
      ],
      "source": [
        "np.arange(15)"
      ]
    },
    {
      "cell_type": "markdown",
      "source": [
        "* Table below shows a short list of standard array creation functions.\n",
        "* Since NumPy is focused on numerical computing, the data type, if not specified, will in many cases be float64 (floating point).\n",
        "\n",
        "<p align=\"center\">\n",
        "    <img src=\"http://raghudathesh.weebly.com/uploads/4/8/9/6/48968251/1_orig.png\">\n",
        "</p>"
      ],
      "metadata": {
        "id": "LQx626gFehNv"
      }
    },
    {
      "cell_type": "markdown",
      "metadata": {
        "deletable": true,
        "editable": true,
        "id": "pAx7uENqoyOa"
      },
      "source": [
        "### Data Types for ndarrays\n",
        "\n",
        "* The data type or dtype is a special object containing the information (or metadata, data about data) the ndarray needs to interpret a chunk of memory as a particular type of data:"
      ]
    },
    {
      "cell_type": "code",
      "execution_count": null,
      "metadata": {
        "deletable": true,
        "editable": true,
        "id": "5CWpX84royOa",
        "colab": {
          "base_uri": "https://localhost:8080/"
        },
        "outputId": "e44c7ad8-8075-4844-b03c-e79608869691"
      },
      "outputs": [
        {
          "output_type": "execute_result",
          "data": {
            "text/plain": [
              "dtype('float64')"
            ]
          },
          "metadata": {},
          "execution_count": 21
        }
      ],
      "source": [
        "arr1 = np.array([1, 2, 3], dtype=np.float64)\n",
        "arr1.dtype"
      ]
    },
    {
      "cell_type": "code",
      "source": [
        "arr2 = np.array([1, 2, 3], dtype=np.int32)\n",
        "arr2.dtype"
      ],
      "metadata": {
        "colab": {
          "base_uri": "https://localhost:8080/"
        },
        "id": "eYrvLKO9gl6g",
        "outputId": "552f27e8-fc8c-470a-a43f-1dd3793c52db"
      },
      "execution_count": null,
      "outputs": [
        {
          "output_type": "execute_result",
          "data": {
            "text/plain": [
              "dtype('int32')"
            ]
          },
          "metadata": {},
          "execution_count": 20
        }
      ]
    },
    {
      "cell_type": "markdown",
      "source": [
        "* **dtypes** are a source of NumPy’s flexibility for interacting with data coming from other systems.\n",
        "* In most cases they provide a mapping directly onto an underlying disk or memory representation, which makes it easy to read and write binary streams of data to disk and also to connect to code written in a low-level language like C or Fortran.\n",
        "* The numerical dtypes are named the same way: a type name, like float or int, followed by a number indicating the number of bits per element.\n",
        "* A standard doubleprecision floating-point value (what’s used under the hood in Python’s float object) takes up 8 bytes or 64 bits. Thus, this type is known in NumPy as float64.\n",
        "*Table below provides a full listing of NumPy’s supported data types.\n",
        "\n",
        "<p align=\"center\">\n",
        "    <img src=\"http://raghudathesh.weebly.com/uploads/4/8/9/6/48968251/2_orig.png\">\n",
        "</p>"
      ],
      "metadata": {
        "id": "Q_n8uwxOiJbM"
      }
    },
    {
      "cell_type": "markdown",
      "source": [
        "* You can explicitly convert or cast an array from one dtype to another using ndarray’s **astype method**:"
      ],
      "metadata": {
        "id": "oq3z59nMjKW9"
      }
    },
    {
      "cell_type": "code",
      "execution_count": null,
      "metadata": {
        "deletable": true,
        "editable": true,
        "id": "2jaeofMEoyOb",
        "colab": {
          "base_uri": "https://localhost:8080/"
        },
        "outputId": "332253b7-f0ee-49fb-f50a-e196bb9576de"
      },
      "outputs": [
        {
          "output_type": "stream",
          "name": "stdout",
          "text": [
            "int64\n",
            "float64\n"
          ]
        }
      ],
      "source": [
        "arr = np.array([1, 2, 3, 4, 5])\n",
        "print(arr.dtype)\n",
        "float_arr = arr.astype(np.float64)\n",
        "print(float_arr.dtype)"
      ]
    },
    {
      "cell_type": "markdown",
      "source": [
        "* In the above example, integers were cast to floating point.\n",
        "* If I cast some floating-point numbers to be of integer dtype, the decimal part will be truncated:"
      ],
      "metadata": {
        "id": "GlbuQct1jeQr"
      }
    },
    {
      "cell_type": "code",
      "execution_count": null,
      "metadata": {
        "deletable": true,
        "editable": true,
        "id": "K7k643HJoyOb",
        "colab": {
          "base_uri": "https://localhost:8080/"
        },
        "outputId": "9aaa5659-b30e-4de4-89ce-fa86e132063a"
      },
      "outputs": [
        {
          "output_type": "stream",
          "name": "stdout",
          "text": [
            "[ 3.7 -1.2 -2.6  0.5 12.9 10.1]\n",
            "[ 3 -1 -2  0 12 10]\n"
          ]
        }
      ],
      "source": [
        "arr = np.array([3.7, -1.2, -2.6, 0.5, 12.9, 10.1])\n",
        "print(arr)\n",
        "print(arr.astype(np.int32))"
      ]
    },
    {
      "cell_type": "markdown",
      "source": [
        "* If you have an array of strings representing numbers, you can use **astype** to convert them to numeric form:"
      ],
      "metadata": {
        "id": "73kQiYPhj7Dj"
      }
    },
    {
      "cell_type": "code",
      "execution_count": null,
      "metadata": {
        "deletable": true,
        "editable": true,
        "id": "Vu_WeNt9oyOc",
        "colab": {
          "base_uri": "https://localhost:8080/"
        },
        "outputId": "0628614e-cfe3-4573-998e-ec0097a2d866"
      },
      "outputs": [
        {
          "output_type": "execute_result",
          "data": {
            "text/plain": [
              "array([ 1.25, -9.6 , 42.  ])"
            ]
          },
          "metadata": {},
          "execution_count": 24
        }
      ],
      "source": [
        "numeric_strings = np.array(['1.25', '-9.6', '42'], dtype=np.string_)\n",
        "numeric_strings.astype(float)"
      ]
    },
    {
      "cell_type": "markdown",
      "source": [
        "# Note:\n",
        "* It’s important to be cautious when using the numpy.string_ type, as string data in NumPy is fixed size and may truncate input\n",
        "without warning.\n",
        "If casting were to fail for some reason (like a string that cannot be converted to float64), a ValueError will be raised."
      ],
      "metadata": {
        "id": "dqYaLQLnkMg0"
      }
    },
    {
      "cell_type": "markdown",
      "source": [
        "# Extra\n",
        "* We can use another array’s dtype attribute:"
      ],
      "metadata": {
        "id": "rnp_xl6HkQCo"
      }
    },
    {
      "cell_type": "code",
      "execution_count": null,
      "metadata": {
        "deletable": true,
        "editable": true,
        "id": "S-PnJeL7oyOc",
        "colab": {
          "base_uri": "https://localhost:8080/"
        },
        "outputId": "a9296a6a-bd8e-4f6b-c6a4-f2f0661daba1"
      },
      "outputs": [
        {
          "output_type": "execute_result",
          "data": {
            "text/plain": [
              "array([0., 1., 2., 3., 4., 5., 6., 7., 8., 9.])"
            ]
          },
          "metadata": {},
          "execution_count": 25
        }
      ],
      "source": [
        "int_array = np.arange(10)\n",
        "calibers = np.array([.22, .270, .357, .380, .44, .50], dtype=np.float64)\n",
        "int_array.astype(calibers.dtype)"
      ]
    },
    {
      "cell_type": "markdown",
      "source": [
        "# Extra\n",
        "* There are shorthand type code strings you can also use to refer to a dtype:"
      ],
      "metadata": {
        "id": "KLPvc5mKlA5X"
      }
    },
    {
      "cell_type": "code",
      "execution_count": null,
      "metadata": {
        "deletable": true,
        "editable": true,
        "id": "rAHMiQJXoyOc",
        "colab": {
          "base_uri": "https://localhost:8080/"
        },
        "outputId": "a282b277-73ad-42e4-d81a-3b17778463fb"
      },
      "outputs": [
        {
          "output_type": "execute_result",
          "data": {
            "text/plain": [
              "array([         0, 1075314688,          0, 1075707904,          0,\n",
              "       1075838976,          0, 1072693248], dtype=uint32)"
            ]
          },
          "metadata": {},
          "execution_count": 26
        }
      ],
      "source": [
        "empty_uint32 = np.empty(8, dtype='u4')\n",
        "empty_uint32"
      ]
    },
    {
      "cell_type": "markdown",
      "metadata": {
        "deletable": true,
        "editable": true,
        "id": "-Oy48KTNoyOc"
      },
      "source": [
        "# Arithmetic with NumPy Arrays"
      ]
    },
    {
      "cell_type": "markdown",
      "source": [
        "* Arrays are important because **they enable you to express batch operations on data** without writing any for loops.\n",
        "* **NumPy users call this vectorization**. Any arithmetic operations between equal-size arrays applies the operation element-wise:"
      ],
      "metadata": {
        "id": "GulR_RtglUlO"
      }
    },
    {
      "cell_type": "code",
      "execution_count": null,
      "metadata": {
        "deletable": true,
        "editable": true,
        "id": "Nn-Di1f_oyOd",
        "colab": {
          "base_uri": "https://localhost:8080/"
        },
        "outputId": "6e13587a-5252-40fd-dd8b-3350b36fdeb8"
      },
      "outputs": [
        {
          "output_type": "execute_result",
          "data": {
            "text/plain": [
              "array([[1., 2., 3.],\n",
              "       [4., 5., 6.]])"
            ]
          },
          "metadata": {},
          "execution_count": 27
        }
      ],
      "source": [
        "arr = np.array([[1., 2., 3.], [4., 5., 6.]])\n",
        "arr"
      ]
    },
    {
      "cell_type": "code",
      "source": [
        "arr * arr"
      ],
      "metadata": {
        "colab": {
          "base_uri": "https://localhost:8080/"
        },
        "id": "doVuyQgjlbmw",
        "outputId": "6afb5f9b-25cf-42ed-e7de-ad680fa966a3"
      },
      "execution_count": null,
      "outputs": [
        {
          "output_type": "execute_result",
          "data": {
            "text/plain": [
              "array([[ 1.,  4.,  9.],\n",
              "       [16., 25., 36.]])"
            ]
          },
          "metadata": {},
          "execution_count": 28
        }
      ]
    },
    {
      "cell_type": "code",
      "source": [
        "arr - arr"
      ],
      "metadata": {
        "colab": {
          "base_uri": "https://localhost:8080/"
        },
        "id": "d0IWDuNgldvT",
        "outputId": "64b455c2-992b-40bf-ccf4-bf294981211b"
      },
      "execution_count": null,
      "outputs": [
        {
          "output_type": "execute_result",
          "data": {
            "text/plain": [
              "array([[0., 0., 0.],\n",
              "       [0., 0., 0.]])"
            ]
          },
          "metadata": {},
          "execution_count": 29
        }
      ]
    },
    {
      "cell_type": "markdown",
      "source": [
        "* Arithmetic operations with scalars propagate the scalar argument to each element in the array:"
      ],
      "metadata": {
        "id": "ucLqn3fvliqe"
      }
    },
    {
      "cell_type": "code",
      "execution_count": null,
      "metadata": {
        "deletable": true,
        "editable": true,
        "id": "9EebSIYwoyOd",
        "colab": {
          "base_uri": "https://localhost:8080/"
        },
        "outputId": "446e295b-1fbd-4cca-bffe-cbbc17f75c5b"
      },
      "outputs": [
        {
          "output_type": "execute_result",
          "data": {
            "text/plain": [
              "array([[1.        , 0.5       , 0.33333333],\n",
              "       [0.25      , 0.2       , 0.16666667]])"
            ]
          },
          "metadata": {},
          "execution_count": 32
        }
      ],
      "source": [
        "1 / arr"
      ]
    },
    {
      "cell_type": "code",
      "source": [
        "arr ** 0.5"
      ],
      "metadata": {
        "colab": {
          "base_uri": "https://localhost:8080/"
        },
        "id": "AUT4nwTYmcz3",
        "outputId": "0e43c2f1-6df6-4859-ea05-e18db6f8f6c3"
      },
      "execution_count": null,
      "outputs": [
        {
          "output_type": "execute_result",
          "data": {
            "text/plain": [
              "array([[1.        , 1.41421356, 1.73205081],\n",
              "       [2.        , 2.23606798, 2.44948974]])"
            ]
          },
          "metadata": {},
          "execution_count": 33
        }
      ]
    },
    {
      "cell_type": "markdown",
      "source": [
        "* Comparisons between arrays of the same size yield boolean arrays:"
      ],
      "metadata": {
        "id": "_fOmYQVVmjKP"
      }
    },
    {
      "cell_type": "code",
      "source": [
        "arr"
      ],
      "metadata": {
        "colab": {
          "base_uri": "https://localhost:8080/"
        },
        "id": "tMx6n8o6muuX",
        "outputId": "0aa45b62-2c03-4861-dc8d-729c15d34a8e"
      },
      "execution_count": null,
      "outputs": [
        {
          "output_type": "execute_result",
          "data": {
            "text/plain": [
              "array([[1., 2., 3.],\n",
              "       [4., 5., 6.]])"
            ]
          },
          "metadata": {},
          "execution_count": 36
        }
      ]
    },
    {
      "cell_type": "code",
      "execution_count": null,
      "metadata": {
        "deletable": true,
        "editable": true,
        "id": "BsVNJjzIoyOe",
        "colab": {
          "base_uri": "https://localhost:8080/"
        },
        "outputId": "ff5510a2-4807-4a2b-eb96-d80636af53b1"
      },
      "outputs": [
        {
          "output_type": "execute_result",
          "data": {
            "text/plain": [
              "array([[ 0.,  4.,  1.],\n",
              "       [ 7.,  2., 12.]])"
            ]
          },
          "metadata": {},
          "execution_count": 34
        }
      ],
      "source": [
        "arr2 = np.array([[0., 4., 1.], [7., 2., 12.]])\n",
        "arr2"
      ]
    },
    {
      "cell_type": "code",
      "source": [
        "arr2 > arr"
      ],
      "metadata": {
        "colab": {
          "base_uri": "https://localhost:8080/"
        },
        "id": "BHJWaDYGmpkM",
        "outputId": "5c8a0fef-dced-4e40-98d4-40d8861c7c4f"
      },
      "execution_count": null,
      "outputs": [
        {
          "output_type": "execute_result",
          "data": {
            "text/plain": [
              "array([[False,  True, False],\n",
              "       [ True, False,  True]])"
            ]
          },
          "metadata": {},
          "execution_count": 35
        }
      ]
    },
    {
      "cell_type": "markdown",
      "source": [
        "* **Operations between differently sized arrays is called broadcasting and will be discussed later**."
      ],
      "metadata": {
        "id": "q6EiYMDNm9Au"
      }
    },
    {
      "cell_type": "markdown",
      "metadata": {
        "deletable": true,
        "editable": true,
        "id": "-Z_M-hjloyOe"
      },
      "source": [
        "# Basic Indexing and Slicing"
      ]
    },
    {
      "cell_type": "markdown",
      "source": [
        "* NumPy array indexing is a rich topic, as there are many ways you may want to select a subset of your data or individual elements.\n",
        "* One-dimensional arrays are simple; on the surface they act similarly to Python lists:"
      ],
      "metadata": {
        "id": "CDVu0kmSnJ3D"
      }
    },
    {
      "cell_type": "code",
      "execution_count": null,
      "metadata": {
        "deletable": true,
        "editable": true,
        "id": "MGwRdChMoyOe",
        "colab": {
          "base_uri": "https://localhost:8080/"
        },
        "outputId": "eacddcd9-599f-4ede-afb6-f966f6ce6a67"
      },
      "outputs": [
        {
          "output_type": "execute_result",
          "data": {
            "text/plain": [
              "array([0, 1, 2, 3, 4, 5, 6, 7, 8, 9])"
            ]
          },
          "metadata": {},
          "execution_count": 44
        }
      ],
      "source": [
        "arr = np.arange(10)\n",
        "arr"
      ]
    },
    {
      "cell_type": "code",
      "source": [
        "arr[5]"
      ],
      "metadata": {
        "colab": {
          "base_uri": "https://localhost:8080/"
        },
        "id": "HZqjTzJKnRVr",
        "outputId": "2dbc6f24-3d51-485f-e97f-14562eb85048"
      },
      "execution_count": null,
      "outputs": [
        {
          "output_type": "execute_result",
          "data": {
            "text/plain": [
              "5"
            ]
          },
          "metadata": {},
          "execution_count": 45
        }
      ]
    },
    {
      "cell_type": "code",
      "source": [
        "arr[5:8]"
      ],
      "metadata": {
        "colab": {
          "base_uri": "https://localhost:8080/"
        },
        "id": "UNiUJY8XnUMk",
        "outputId": "aef919a6-6e95-4ff1-afba-af70203db805"
      },
      "execution_count": null,
      "outputs": [
        {
          "output_type": "execute_result",
          "data": {
            "text/plain": [
              "array([5, 6, 7])"
            ]
          },
          "metadata": {},
          "execution_count": 46
        }
      ]
    },
    {
      "cell_type": "code",
      "source": [
        "arr[5:8] = 12\n",
        "arr"
      ],
      "metadata": {
        "colab": {
          "base_uri": "https://localhost:8080/"
        },
        "id": "m0Yca4dxnWlz",
        "outputId": "0e70e1dd-b6b1-41b9-9318-abb110938c28"
      },
      "execution_count": null,
      "outputs": [
        {
          "output_type": "execute_result",
          "data": {
            "text/plain": [
              "array([ 0,  1,  2,  3,  4, 12, 12, 12,  8,  9])"
            ]
          },
          "metadata": {},
          "execution_count": 47
        }
      ]
    },
    {
      "cell_type": "markdown",
      "source": [
        "* As you can see, if you assign a scalar value to a slice, as in arr[5:8] = 12, the value is propagated (or broadcasted henceforth) to the entire selection.\n",
        "* An important first distinction from Python’s built-in lists is that array slices are views on the original array.\n",
        "* This means that the data is not copied, and any modifications to the view will be\n",
        "reflected in the source array."
      ],
      "metadata": {
        "id": "ivRgUlRpnke-"
      }
    },
    {
      "cell_type": "code",
      "execution_count": null,
      "metadata": {
        "deletable": true,
        "editable": true,
        "id": "RDy6ck5koyOe",
        "colab": {
          "base_uri": "https://localhost:8080/"
        },
        "outputId": "3cccd645-feae-4092-fd9c-3f45f872c93e"
      },
      "outputs": [
        {
          "output_type": "execute_result",
          "data": {
            "text/plain": [
              "array([12, 12, 12])"
            ]
          },
          "metadata": {},
          "execution_count": 48
        }
      ],
      "source": [
        "arr_slice = arr[5:8]\n",
        "arr_slice"
      ]
    },
    {
      "cell_type": "markdown",
      "source": [
        "* Now,  **change values in arr_slice, the mutations are reflected in the original\n",
        "array arr**:"
      ],
      "metadata": {
        "id": "A6oK-R0un4Mg"
      }
    },
    {
      "cell_type": "code",
      "execution_count": null,
      "metadata": {
        "deletable": true,
        "editable": true,
        "id": "Bufh5OFjoyOf",
        "colab": {
          "base_uri": "https://localhost:8080/"
        },
        "outputId": "5475ae2b-cfe3-482a-b011-847742c2d9b6"
      },
      "outputs": [
        {
          "output_type": "execute_result",
          "data": {
            "text/plain": [
              "array([    0,     1,     2,     3,     4,    12, 12345,    12,     8,\n",
              "           9])"
            ]
          },
          "metadata": {},
          "execution_count": 49
        }
      ],
      "source": [
        "arr_slice[1] = 12345\n",
        "arr"
      ]
    },
    {
      "cell_type": "markdown",
      "source": [
        "* The **“bare”** slice [:] will assign to all values in an array:"
      ],
      "metadata": {
        "id": "d0mgvykyoWC9"
      }
    },
    {
      "cell_type": "code",
      "execution_count": null,
      "metadata": {
        "deletable": true,
        "editable": true,
        "id": "xE_hcLhGoyOf",
        "colab": {
          "base_uri": "https://localhost:8080/"
        },
        "outputId": "d93e36bc-f9ee-43f4-de76-ac414622e94e"
      },
      "outputs": [
        {
          "output_type": "execute_result",
          "data": {
            "text/plain": [
              "array([ 0,  1,  2,  3,  4, 64, 64, 64,  8,  9])"
            ]
          },
          "metadata": {},
          "execution_count": 50
        }
      ],
      "source": [
        "arr_slice[:] = 64\n",
        "arr"
      ]
    },
    {
      "cell_type": "markdown",
      "source": [
        "* If you are new to NumPy, you might be surprised by this, especially if you have used\n",
        "other array programming languages that copy data more eagerly.\n",
        "*  As NumPy has been designed to be able to work with very large arrays, you could imagine performance and memory problems if NumPy insisted on always copying data."
      ],
      "metadata": {
        "id": "dDg0MjjloplT"
      }
    },
    {
      "cell_type": "markdown",
      "source": [
        "* With higher dimensional arrays, you have many more options.\n",
        "* In a two-dimensional array, the elements at each index are no longer scalars but rather one-dimensional arrays:"
      ],
      "metadata": {
        "id": "JN7pN8vVpFFd"
      }
    },
    {
      "cell_type": "code",
      "execution_count": 4,
      "metadata": {
        "deletable": true,
        "editable": true,
        "id": "t-MXMs5MoyOf",
        "colab": {
          "base_uri": "https://localhost:8080/"
        },
        "outputId": "2d3185d7-31da-43fc-e0eb-9caa76838c5d"
      },
      "outputs": [
        {
          "output_type": "execute_result",
          "data": {
            "text/plain": [
              "array([7, 8, 9])"
            ]
          },
          "metadata": {},
          "execution_count": 4
        }
      ],
      "source": [
        "arr2d = np.array([[1, 2, 3], [4, 5, 6], [7, 8, 9]])\n",
        "arr2d[2]"
      ]
    },
    {
      "cell_type": "markdown",
      "source": [
        "* The individual elements in array can be accessed recursively. For this pass a comma-separated list of indices to select individual elements."
      ],
      "metadata": {
        "id": "KQGQbRmfpeqE"
      }
    },
    {
      "cell_type": "code",
      "source": [
        "arr2d[0, 2]"
      ],
      "metadata": {
        "colab": {
          "base_uri": "https://localhost:8080/"
        },
        "id": "vjcTXDFapvUl",
        "outputId": "c40bf8d1-a766-4ac2-e784-69986cb56e9d"
      },
      "execution_count": 5,
      "outputs": [
        {
          "output_type": "execute_result",
          "data": {
            "text/plain": [
              "3"
            ]
          },
          "metadata": {},
          "execution_count": 5
        }
      ]
    },
    {
      "cell_type": "code",
      "execution_count": 7,
      "metadata": {
        "deletable": true,
        "editable": true,
        "id": "Epe-tZqroyOg",
        "colab": {
          "base_uri": "https://localhost:8080/"
        },
        "outputId": "1a288f31-db20-4474-a8e4-7e7cc5ee8cc2"
      },
      "outputs": [
        {
          "output_type": "execute_result",
          "data": {
            "text/plain": [
              "6"
            ]
          },
          "metadata": {},
          "execution_count": 7
        }
      ],
      "source": [
        "arr2d[1][2]"
      ]
    },
    {
      "cell_type": "markdown",
      "source": [
        "* In multidimensional arrays, if you omit later indices, the returned object will be a\n",
        "lower dimensional ndarray consisting of all the data along the higher dimensions.\n",
        "* So\n",
        "in the 2 × 2 × 3 array arr3d:"
      ],
      "metadata": {
        "id": "92FJDc-Np_rb"
      }
    },
    {
      "cell_type": "code",
      "execution_count": null,
      "metadata": {
        "deletable": true,
        "editable": true,
        "id": "gtEiHpREoyOg",
        "colab": {
          "base_uri": "https://localhost:8080/"
        },
        "outputId": "94932e59-68b1-4684-8076-4a591f0d3510"
      },
      "outputs": [
        {
          "output_type": "execute_result",
          "data": {
            "text/plain": [
              "array([[[ 1,  2,  3],\n",
              "        [ 4,  5,  6]],\n",
              "\n",
              "       [[ 7,  8,  9],\n",
              "        [10, 11, 12]]])"
            ]
          },
          "metadata": {},
          "execution_count": 57
        }
      ],
      "source": [
        "arr3d = np.array([[[1, 2, 3], [4, 5, 6]], [[7, 8, 9], [10, 11, 12]]])\n",
        "arr3d"
      ]
    },
    {
      "cell_type": "markdown",
      "source": [
        "* arr3d[0] is a 2 × 3 array:"
      ],
      "metadata": {
        "id": "Fqlk2cTiqHix"
      }
    },
    {
      "cell_type": "code",
      "execution_count": null,
      "metadata": {
        "deletable": true,
        "editable": true,
        "id": "5b5MArsJoyOg",
        "colab": {
          "base_uri": "https://localhost:8080/"
        },
        "outputId": "ac2436d7-4e10-4818-d8c8-e366a2848efe"
      },
      "outputs": [
        {
          "output_type": "execute_result",
          "data": {
            "text/plain": [
              "array([[1, 2, 3],\n",
              "       [4, 5, 6]])"
            ]
          },
          "metadata": {},
          "execution_count": 58
        }
      ],
      "source": [
        "arr3d[0]"
      ]
    },
    {
      "cell_type": "code",
      "source": [
        "arr3d[1]"
      ],
      "metadata": {
        "colab": {
          "base_uri": "https://localhost:8080/"
        },
        "id": "wyYz_YaEqOwn",
        "outputId": "94fc587a-6bbb-436a-bbdf-5ee215af7e19"
      },
      "execution_count": null,
      "outputs": [
        {
          "output_type": "execute_result",
          "data": {
            "text/plain": [
              "array([[ 7,  8,  9],\n",
              "       [10, 11, 12]])"
            ]
          },
          "metadata": {},
          "execution_count": 59
        }
      ]
    },
    {
      "cell_type": "markdown",
      "source": [
        "* Both scalar values and arrays can be assigned to arr3d[0]:"
      ],
      "metadata": {
        "id": "zrb-KSpSqaT7"
      }
    },
    {
      "cell_type": "code",
      "execution_count": null,
      "metadata": {
        "deletable": true,
        "editable": true,
        "id": "UHJ6laKioyOh",
        "colab": {
          "base_uri": "https://localhost:8080/"
        },
        "outputId": "39ea2887-8d23-431c-9309-130522998647"
      },
      "outputs": [
        {
          "output_type": "execute_result",
          "data": {
            "text/plain": [
              "array([[[42, 42, 42],\n",
              "        [42, 42, 42]],\n",
              "\n",
              "       [[ 7,  8,  9],\n",
              "        [10, 11, 12]]])"
            ]
          },
          "metadata": {},
          "execution_count": 61
        }
      ],
      "source": [
        "old_values = arr3d[0].copy()\n",
        "arr3d[0] = 42\n",
        "arr3d"
      ]
    },
    {
      "cell_type": "code",
      "source": [
        "arr3d[0] = old_values\n",
        "arr3d"
      ],
      "metadata": {
        "colab": {
          "base_uri": "https://localhost:8080/"
        },
        "id": "FIAgH4AjymdX",
        "outputId": "ff30693c-2d75-4715-a8c3-9e26077705af"
      },
      "execution_count": null,
      "outputs": [
        {
          "output_type": "execute_result",
          "data": {
            "text/plain": [
              "array([[[ 1,  2,  3],\n",
              "        [ 4,  5,  6]],\n",
              "\n",
              "       [[ 7,  8,  9],\n",
              "        [10, 11, 12]]])"
            ]
          },
          "metadata": {},
          "execution_count": 62
        }
      ]
    },
    {
      "cell_type": "markdown",
      "source": [
        "*  arr3d[1, 0] gives you all of the values whose indices start with (1, 0), forming a 1-dimensional array:"
      ],
      "metadata": {
        "id": "3KUS6C7aywmm"
      }
    },
    {
      "cell_type": "code",
      "execution_count": null,
      "metadata": {
        "deletable": true,
        "editable": true,
        "id": "ufOgUkeBoyOh",
        "colab": {
          "base_uri": "https://localhost:8080/"
        },
        "outputId": "cda2615f-255e-478a-def1-14e97d10aa14"
      },
      "outputs": [
        {
          "output_type": "execute_result",
          "data": {
            "text/plain": [
              "array([7, 8, 9])"
            ]
          },
          "metadata": {},
          "execution_count": 63
        }
      ],
      "source": [
        "arr3d[1, 0]"
      ]
    },
    {
      "cell_type": "markdown",
      "source": [
        "* This expression is the same as though we had indexed in two steps:"
      ],
      "metadata": {
        "id": "jI2pINuay63D"
      }
    },
    {
      "cell_type": "code",
      "execution_count": null,
      "metadata": {
        "deletable": true,
        "editable": true,
        "id": "1BgVvtTyoyOh",
        "colab": {
          "base_uri": "https://localhost:8080/"
        },
        "outputId": "19724b8e-75df-4e80-8a6d-234b95f80e5e"
      },
      "outputs": [
        {
          "output_type": "execute_result",
          "data": {
            "text/plain": [
              "array([[ 7,  8,  9],\n",
              "       [10, 11, 12]])"
            ]
          },
          "metadata": {},
          "execution_count": 64
        }
      ],
      "source": [
        "x = arr3d[1]\n",
        "x"
      ]
    },
    {
      "cell_type": "code",
      "source": [
        "x[0]"
      ],
      "metadata": {
        "colab": {
          "base_uri": "https://localhost:8080/"
        },
        "id": "-OmPEJupzFeX",
        "outputId": "a3757ae8-a204-43bf-9ea1-39e074e512ac"
      },
      "execution_count": null,
      "outputs": [
        {
          "output_type": "execute_result",
          "data": {
            "text/plain": [
              "array([7, 8, 9])"
            ]
          },
          "metadata": {},
          "execution_count": 65
        }
      ]
    },
    {
      "cell_type": "markdown",
      "source": [
        "* Note that in all of these cases where subsections of the array have been selected, the returned arrays are views."
      ],
      "metadata": {
        "id": "ucDMAMbFzNXz"
      }
    },
    {
      "cell_type": "markdown",
      "metadata": {
        "deletable": true,
        "editable": true,
        "id": "abWEeQeuoyOh"
      },
      "source": [
        "# Indexing with slices\n",
        "\n",
        "* Like one-dimensional objects such as Python lists, ndarrays can be sliced with the\n",
        "familiar syntax:"
      ]
    },
    {
      "cell_type": "code",
      "execution_count": null,
      "metadata": {
        "deletable": true,
        "editable": true,
        "id": "W8LlGYz0oyOi",
        "colab": {
          "base_uri": "https://localhost:8080/"
        },
        "outputId": "ae0d5359-d6fa-4eae-b293-edaa260472f8"
      },
      "outputs": [
        {
          "output_type": "execute_result",
          "data": {
            "text/plain": [
              "array([ 0,  1,  2,  3,  4, 64, 64, 64,  8,  9])"
            ]
          },
          "metadata": {},
          "execution_count": 66
        }
      ],
      "source": [
        "arr"
      ]
    },
    {
      "cell_type": "code",
      "source": [
        "arr[1:6]"
      ],
      "metadata": {
        "colab": {
          "base_uri": "https://localhost:8080/"
        },
        "id": "Jj-lytxOzp6M",
        "outputId": "0b5c8bc1-78e4-4ffa-da27-b77d3f695b00"
      },
      "execution_count": null,
      "outputs": [
        {
          "output_type": "execute_result",
          "data": {
            "text/plain": [
              "array([ 1,  2,  3,  4, 64])"
            ]
          },
          "metadata": {},
          "execution_count": 67
        }
      ]
    },
    {
      "cell_type": "markdown",
      "source": [
        "* Consider the two-dimensional array from before, arr2d. Slicing this array is a bit\n",
        "different:"
      ],
      "metadata": {
        "id": "TG5wL3TbztRW"
      }
    },
    {
      "cell_type": "code",
      "execution_count": null,
      "metadata": {
        "deletable": true,
        "editable": true,
        "id": "DTZdqU4ooyOi",
        "colab": {
          "base_uri": "https://localhost:8080/"
        },
        "outputId": "61530e23-0103-4043-b679-69377eee93b7"
      },
      "outputs": [
        {
          "output_type": "execute_result",
          "data": {
            "text/plain": [
              "array([[1, 2, 3],\n",
              "       [4, 5, 6],\n",
              "       [7, 8, 9]])"
            ]
          },
          "metadata": {},
          "execution_count": 68
        }
      ],
      "source": [
        "arr2d"
      ]
    },
    {
      "cell_type": "code",
      "source": [
        "arr2d[:2]"
      ],
      "metadata": {
        "colab": {
          "base_uri": "https://localhost:8080/"
        },
        "id": "TTqSUGA-zyuF",
        "outputId": "da7ae754-1973-47dc-a8d3-c742a1437157"
      },
      "execution_count": null,
      "outputs": [
        {
          "output_type": "execute_result",
          "data": {
            "text/plain": [
              "array([[1, 2, 3],\n",
              "       [4, 5, 6]])"
            ]
          },
          "metadata": {},
          "execution_count": 69
        }
      ]
    },
    {
      "cell_type": "markdown",
      "source": [
        "* As you can see, it has sliced along axis 0, the first axis.\n",
        "* A slice, therefore, selects a\n",
        "range of elements along an axis. It can be helpful to read the expression arr2d[:2] as **select the first two rows of arr2d**."
      ],
      "metadata": {
        "id": "djv0jRf9z90o"
      }
    },
    {
      "cell_type": "code",
      "execution_count": null,
      "metadata": {
        "deletable": true,
        "editable": true,
        "id": "l2bKC5kEoyOi",
        "colab": {
          "base_uri": "https://localhost:8080/"
        },
        "outputId": "8a3b69df-fc9e-40b3-82bd-357ed5109279"
      },
      "outputs": [
        {
          "output_type": "execute_result",
          "data": {
            "text/plain": [
              "array([[2, 3],\n",
              "       [5, 6]])"
            ]
          },
          "metadata": {},
          "execution_count": 70
        }
      ],
      "source": [
        "arr2d[:2, 1:]"
      ]
    },
    {
      "cell_type": "markdown",
      "source": [
        "**Guess the output**"
      ],
      "metadata": {
        "id": "t4h24ABDDEN4"
      }
    },
    {
      "cell_type": "code",
      "source": [
        "arr2d[:2, 0:]"
      ],
      "metadata": {
        "id": "Ps_cEzWlC5qi"
      },
      "execution_count": null,
      "outputs": []
    },
    {
      "cell_type": "markdown",
      "source": [
        "* When slicing like this, always obtain array views of the same number of dimensions.\n",
        "* By mixing integer indexes and slices, you get lower dimensional slices."
      ],
      "metadata": {
        "id": "xAhEB5Tt0RWB"
      }
    },
    {
      "cell_type": "markdown",
      "source": [
        "* For example, We can select the second row but only the first two columns like so:"
      ],
      "metadata": {
        "id": "zHRgfRVu0bqj"
      }
    },
    {
      "cell_type": "code",
      "execution_count": null,
      "metadata": {
        "deletable": true,
        "editable": true,
        "id": "lyU-gpHOoyOj",
        "colab": {
          "base_uri": "https://localhost:8080/"
        },
        "outputId": "27917239-3627-4b93-cecd-675ee4e9a957"
      },
      "outputs": [
        {
          "output_type": "execute_result",
          "data": {
            "text/plain": [
              "array([4, 5])"
            ]
          },
          "metadata": {},
          "execution_count": 71
        }
      ],
      "source": [
        "arr2d[1, :2]"
      ]
    },
    {
      "cell_type": "markdown",
      "source": [
        "* Similarly, we can select the third column but only the first two rows like so:"
      ],
      "metadata": {
        "id": "9M5sxc-q0hep"
      }
    },
    {
      "cell_type": "code",
      "execution_count": null,
      "metadata": {
        "deletable": true,
        "editable": true,
        "id": "ZD8YGxLfoyOj",
        "colab": {
          "base_uri": "https://localhost:8080/"
        },
        "outputId": "b1ee745f-9a37-49c3-cc31-c27f7d956d58"
      },
      "outputs": [
        {
          "output_type": "execute_result",
          "data": {
            "text/plain": [
              "array([3, 6])"
            ]
          },
          "metadata": {},
          "execution_count": 72
        }
      ],
      "source": [
        "arr2d[:2, 2]"
      ]
    },
    {
      "cell_type": "markdown",
      "source": [
        "* A colon by itself means to take the entire\n",
        "axis, so you can slice only higher dimensional axes by doing:"
      ],
      "metadata": {
        "id": "QtmvygkD0uw8"
      }
    },
    {
      "cell_type": "code",
      "execution_count": null,
      "metadata": {
        "deletable": true,
        "editable": true,
        "id": "GyXhRd2hoyOj",
        "colab": {
          "base_uri": "https://localhost:8080/"
        },
        "outputId": "bfff92cd-d2fb-4d68-8163-8d9f779270e2"
      },
      "outputs": [
        {
          "output_type": "execute_result",
          "data": {
            "text/plain": [
              "array([[1],\n",
              "       [4],\n",
              "       [7]])"
            ]
          },
          "metadata": {},
          "execution_count": 73
        }
      ],
      "source": [
        "arr2d[:, :1]"
      ]
    },
    {
      "cell_type": "markdown",
      "source": [
        "* The Instruction can be read as select all the rows and first column elements."
      ],
      "metadata": {
        "id": "VpRQg_0RDbo4"
      }
    },
    {
      "cell_type": "markdown",
      "source": [
        "* Assigning to a slice expression assigns to the whole selection:"
      ],
      "metadata": {
        "id": "IiHOtap501UD"
      }
    },
    {
      "cell_type": "code",
      "execution_count": null,
      "metadata": {
        "deletable": true,
        "editable": true,
        "id": "k6AzG71coyOk",
        "colab": {
          "base_uri": "https://localhost:8080/"
        },
        "outputId": "8bc9ada0-c72a-42e2-cf7c-2bc41a7e1a0c"
      },
      "outputs": [
        {
          "output_type": "execute_result",
          "data": {
            "text/plain": [
              "array([[1, 0, 0],\n",
              "       [4, 0, 0],\n",
              "       [7, 8, 9]])"
            ]
          },
          "metadata": {},
          "execution_count": 74
        }
      ],
      "source": [
        "arr2d[:2, 1:] = 0\n",
        "arr2d"
      ]
    },
    {
      "cell_type": "markdown",
      "metadata": {
        "deletable": true,
        "editable": true,
        "id": "zurwG0V7oyOk"
      },
      "source": [
        "### Boolean Indexing\n",
        "* Let’s consider an example where we have some data in an array and an array of names\n",
        "with duplicates.\n",
        "* We going to use here the randn function in **numpy.random** to generate some random normally distributed data:"
      ]
    },
    {
      "cell_type": "code",
      "execution_count": 9,
      "metadata": {
        "deletable": true,
        "editable": true,
        "id": "4XR2h3--oyOk",
        "colab": {
          "base_uri": "https://localhost:8080/"
        },
        "outputId": "1f545041-f9a3-478d-d0af-6cee4bc40022"
      },
      "outputs": [
        {
          "output_type": "stream",
          "name": "stdout",
          "text": [
            "['Mohit' 'Varshini' 'Sunil' 'Mohit' 'Varshini' 'Sunil' 'Sunil']\n",
            "[[ 1.61573158 -0.21467493 -0.55691091 -1.35529545]\n",
            " [ 0.63141381 -0.5910019   0.34113241  0.72124421]\n",
            " [-1.46798961  0.21982993  0.83232813 -1.06998477]\n",
            " [ 0.62967722  0.17273545  0.97245692 -1.13220514]\n",
            " [ 1.58912009  1.21402402 -1.17556876 -0.8562653 ]\n",
            " [ 0.10232066  1.62910022 -0.87208083 -1.26009825]\n",
            " [ 1.46412524 -0.60206117 -1.24660508 -1.06261898]]\n"
          ]
        }
      ],
      "source": [
        "names = np.array(['Mohit', 'Varshini', 'Sunil', 'Mohit', 'Varshini', 'Sunil', 'Sunil'])\n",
        "data = np.random.randn(7, 4)\n",
        "print(names)\n",
        "print(data)"
      ]
    },
    {
      "cell_type": "markdown",
      "source": [
        "* Suppose each name corresponds to a row in the data array and we wanted to select\n",
        "all the rows with corresponding name 'Mohit'.\n",
        "* Like arithmetic operations, comparisons (such as ==) with arrays are also vectorized.\n",
        "* Thus, comparing names with the string 'Mohit' yields a boolean array:"
      ],
      "metadata": {
        "id": "axAm50Lm1oHI"
      }
    },
    {
      "cell_type": "code",
      "execution_count": 10,
      "metadata": {
        "deletable": true,
        "editable": true,
        "id": "adrTEvNaoyOk",
        "colab": {
          "base_uri": "https://localhost:8080/"
        },
        "outputId": "726aaeaa-6601-4ea9-8fcd-638aae40718a"
      },
      "outputs": [
        {
          "output_type": "execute_result",
          "data": {
            "text/plain": [
              "array([ True, False, False,  True, False, False, False])"
            ]
          },
          "metadata": {},
          "execution_count": 10
        }
      ],
      "source": [
        "names == 'Mohit'"
      ]
    },
    {
      "cell_type": "markdown",
      "source": [
        "* This boolean array can be passed when indexing the array:"
      ],
      "metadata": {
        "id": "K41Gc9mb15sZ"
      }
    },
    {
      "cell_type": "code",
      "execution_count": 12,
      "metadata": {
        "deletable": true,
        "editable": true,
        "id": "NQZqGsW4oyOl",
        "colab": {
          "base_uri": "https://localhost:8080/"
        },
        "outputId": "d5cae53c-8deb-4da5-9758-e64b49d2996f"
      },
      "outputs": [
        {
          "output_type": "execute_result",
          "data": {
            "text/plain": [
              "array([[ 1.61573158, -0.21467493, -0.55691091, -1.35529545],\n",
              "       [ 0.62967722,  0.17273545,  0.97245692, -1.13220514]])"
            ]
          },
          "metadata": {},
          "execution_count": 12
        }
      ],
      "source": [
        "data[names == 'Mohit']"
      ]
    },
    {
      "cell_type": "markdown",
      "source": [
        "* The boolean array must be of the same length as the array axis it’s indexing.\n",
        "* You can even mix and match boolean arrays with slices or integers."
      ],
      "metadata": {
        "id": "m_55nyhx2CbQ"
      }
    },
    {
      "cell_type": "markdown",
      "source": [
        "* Here we select from the rows where names == 'Mohit' and index the columns, too:"
      ],
      "metadata": {
        "id": "uwxeiCjc2K5O"
      }
    },
    {
      "cell_type": "code",
      "execution_count": 13,
      "metadata": {
        "deletable": true,
        "editable": true,
        "id": "nJpfcwhzoyOl",
        "colab": {
          "base_uri": "https://localhost:8080/"
        },
        "outputId": "2de47fb8-67d3-4bb8-a5ca-1fc49b011cb6"
      },
      "outputs": [
        {
          "output_type": "execute_result",
          "data": {
            "text/plain": [
              "array([[-0.55691091, -1.35529545],\n",
              "       [ 0.97245692, -1.13220514]])"
            ]
          },
          "metadata": {},
          "execution_count": 13
        }
      ],
      "source": [
        "data[names == 'Mohit', 2:]"
      ]
    },
    {
      "cell_type": "code",
      "source": [
        "data[names == 'Mohit', 3]"
      ],
      "metadata": {
        "colab": {
          "base_uri": "https://localhost:8080/"
        },
        "id": "UoIN7EGY2T6G",
        "outputId": "c92ab17f-ff49-4718-afb4-344cb3e3d150"
      },
      "execution_count": 14,
      "outputs": [
        {
          "output_type": "execute_result",
          "data": {
            "text/plain": [
              "array([-1.35529545, -1.13220514])"
            ]
          },
          "metadata": {},
          "execution_count": 14
        }
      ]
    },
    {
      "cell_type": "markdown",
      "source": [
        "* * To select everything but 'Mohit', you can either use **!=** or negate the condition using **~**:"
      ],
      "metadata": {
        "id": "TTVmHz6h21oZ"
      }
    },
    {
      "cell_type": "code",
      "execution_count": 15,
      "metadata": {
        "deletable": true,
        "editable": true,
        "id": "QYkppt5woyOl",
        "colab": {
          "base_uri": "https://localhost:8080/"
        },
        "outputId": "55ca1607-0727-49a0-9be2-9c06121c4dfe"
      },
      "outputs": [
        {
          "output_type": "execute_result",
          "data": {
            "text/plain": [
              "array([False,  True,  True, False,  True,  True,  True])"
            ]
          },
          "metadata": {},
          "execution_count": 15
        }
      ],
      "source": [
        "names != 'Mohit'"
      ]
    },
    {
      "cell_type": "code",
      "source": [
        "data[~(names == 'Mohit')]"
      ],
      "metadata": {
        "colab": {
          "base_uri": "https://localhost:8080/"
        },
        "id": "lYtyrIqV2-ab",
        "outputId": "efe6d16e-d490-4da6-ea72-d413a59b69d6"
      },
      "execution_count": 16,
      "outputs": [
        {
          "output_type": "execute_result",
          "data": {
            "text/plain": [
              "array([[ 0.63141381, -0.5910019 ,  0.34113241,  0.72124421],\n",
              "       [-1.46798961,  0.21982993,  0.83232813, -1.06998477],\n",
              "       [ 1.58912009,  1.21402402, -1.17556876, -0.8562653 ],\n",
              "       [ 0.10232066,  1.62910022, -0.87208083, -1.26009825],\n",
              "       [ 1.46412524, -0.60206117, -1.24660508, -1.06261898]])"
            ]
          },
          "metadata": {},
          "execution_count": 16
        }
      ]
    },
    {
      "cell_type": "markdown",
      "source": [
        "* The ~ operator can be useful when you want to invert a general condition:"
      ],
      "metadata": {
        "id": "IFe_uzm-3Ef0"
      }
    },
    {
      "cell_type": "code",
      "execution_count": 17,
      "metadata": {
        "deletable": true,
        "editable": true,
        "id": "uQCgc_-2oyOm",
        "colab": {
          "base_uri": "https://localhost:8080/"
        },
        "outputId": "cda7994e-24c6-4c4d-837a-4079a1eb7fdc"
      },
      "outputs": [
        {
          "output_type": "execute_result",
          "data": {
            "text/plain": [
              "array([[ 0.63141381, -0.5910019 ,  0.34113241,  0.72124421],\n",
              "       [-1.46798961,  0.21982993,  0.83232813, -1.06998477],\n",
              "       [ 1.58912009,  1.21402402, -1.17556876, -0.8562653 ],\n",
              "       [ 0.10232066,  1.62910022, -0.87208083, -1.26009825],\n",
              "       [ 1.46412524, -0.60206117, -1.24660508, -1.06261898]])"
            ]
          },
          "metadata": {},
          "execution_count": 17
        }
      ],
      "source": [
        "cond = names == 'Mohit'\n",
        "data[~cond]"
      ]
    },
    {
      "cell_type": "markdown",
      "source": [
        "* Selecting two of the three names to combine multiple boolean conditions, use\n",
        "boolean arithmetic operators like & (and) and | (or):"
      ],
      "metadata": {
        "id": "wnsIvsVD3LMg"
      }
    },
    {
      "cell_type": "code",
      "execution_count": 18,
      "metadata": {
        "deletable": true,
        "editable": true,
        "id": "-yYXtt6DoyOm",
        "colab": {
          "base_uri": "https://localhost:8080/"
        },
        "outputId": "2105a1bc-6882-4e4f-eb4c-467e1424ba37"
      },
      "outputs": [
        {
          "output_type": "execute_result",
          "data": {
            "text/plain": [
              "array([ True, False,  True,  True, False,  True,  True])"
            ]
          },
          "metadata": {},
          "execution_count": 18
        }
      ],
      "source": [
        "mask = (names == 'Mohit') | (names == 'Sunil')\n",
        "mask"
      ]
    },
    {
      "cell_type": "code",
      "source": [
        "data[mask]"
      ],
      "metadata": {
        "colab": {
          "base_uri": "https://localhost:8080/"
        },
        "id": "s-1iQASy3RCh",
        "outputId": "5d27d726-f43c-41d1-c79f-dda7dcf236fc"
      },
      "execution_count": 19,
      "outputs": [
        {
          "output_type": "execute_result",
          "data": {
            "text/plain": [
              "array([[ 1.61573158, -0.21467493, -0.55691091, -1.35529545],\n",
              "       [-1.46798961,  0.21982993,  0.83232813, -1.06998477],\n",
              "       [ 0.62967722,  0.17273545,  0.97245692, -1.13220514],\n",
              "       [ 0.10232066,  1.62910022, -0.87208083, -1.26009825],\n",
              "       [ 1.46412524, -0.60206117, -1.24660508, -1.06261898]])"
            ]
          },
          "metadata": {},
          "execution_count": 19
        }
      ]
    },
    {
      "cell_type": "markdown",
      "source": [
        "* Selecting data from an array by boolean indexing always creates a copy of the data,\n",
        "even if the returned array is unchanged."
      ],
      "metadata": {
        "id": "aQVTj3TC3WJb"
      }
    },
    {
      "cell_type": "markdown",
      "source": [
        "* Setting values with boolean arrays works in a common-sense way.\n",
        "* To set all of the negative values in data to 0 we need only do:"
      ],
      "metadata": {
        "id": "mVqCUS6S3cDE"
      }
    },
    {
      "cell_type": "code",
      "execution_count": 20,
      "metadata": {
        "deletable": true,
        "editable": true,
        "id": "L1LxOiunoyOm",
        "colab": {
          "base_uri": "https://localhost:8080/"
        },
        "outputId": "0e927302-df19-4115-b157-91a55331d883"
      },
      "outputs": [
        {
          "output_type": "execute_result",
          "data": {
            "text/plain": [
              "array([[1.61573158, 0.        , 0.        , 0.        ],\n",
              "       [0.63141381, 0.        , 0.34113241, 0.72124421],\n",
              "       [0.        , 0.21982993, 0.83232813, 0.        ],\n",
              "       [0.62967722, 0.17273545, 0.97245692, 0.        ],\n",
              "       [1.58912009, 1.21402402, 0.        , 0.        ],\n",
              "       [0.10232066, 1.62910022, 0.        , 0.        ],\n",
              "       [1.46412524, 0.        , 0.        , 0.        ]])"
            ]
          },
          "metadata": {},
          "execution_count": 20
        }
      ],
      "source": [
        "data[data < 0] = 0\n",
        "data"
      ]
    },
    {
      "cell_type": "markdown",
      "source": [
        "* Setting whole rows or columns using a one-dimensional boolean array is also easy:"
      ],
      "metadata": {
        "id": "r1335KLv3i2m"
      }
    },
    {
      "cell_type": "code",
      "execution_count": 21,
      "metadata": {
        "deletable": true,
        "editable": true,
        "id": "EwXYGgIvoyOm",
        "colab": {
          "base_uri": "https://localhost:8080/"
        },
        "outputId": "5f557271-47bf-494c-a9e1-d43b0f844fbb"
      },
      "outputs": [
        {
          "output_type": "execute_result",
          "data": {
            "text/plain": [
              "array([[7.        , 7.        , 7.        , 7.        ],\n",
              "       [0.63141381, 0.        , 0.34113241, 0.72124421],\n",
              "       [7.        , 7.        , 7.        , 7.        ],\n",
              "       [7.        , 7.        , 7.        , 7.        ],\n",
              "       [1.58912009, 1.21402402, 0.        , 0.        ],\n",
              "       [7.        , 7.        , 7.        , 7.        ],\n",
              "       [7.        , 7.        , 7.        , 7.        ]])"
            ]
          },
          "metadata": {},
          "execution_count": 21
        }
      ],
      "source": [
        "data[names != 'Varshini'] = 7\n",
        "data"
      ]
    },
    {
      "cell_type": "markdown",
      "metadata": {
        "deletable": true,
        "editable": true,
        "id": "9QEr1w8DoyOn"
      },
      "source": [
        "### Fancy Indexing\n",
        "\n",
        "* Fancy indexing is a term adopted by NumPy to describe indexing using integer arrays.\n",
        "* Suppose we had an 8 × 4 array:"
      ]
    },
    {
      "cell_type": "code",
      "execution_count": null,
      "metadata": {
        "deletable": true,
        "editable": true,
        "id": "0mO2RjOwoyOn",
        "colab": {
          "base_uri": "https://localhost:8080/"
        },
        "outputId": "763ba3d0-8e19-4fa4-d0b4-13be6c2c9c05"
      },
      "outputs": [
        {
          "output_type": "execute_result",
          "data": {
            "text/plain": [
              "array([[0., 0., 0., 0.],\n",
              "       [1., 1., 1., 1.],\n",
              "       [2., 2., 2., 2.],\n",
              "       [3., 3., 3., 3.],\n",
              "       [4., 4., 4., 4.],\n",
              "       [5., 5., 5., 5.],\n",
              "       [6., 6., 6., 6.],\n",
              "       [7., 7., 7., 7.]])"
            ]
          },
          "metadata": {},
          "execution_count": 87
        }
      ],
      "source": [
        "arr = np.empty((8, 4))\n",
        "for i in range(8):\n",
        "    arr[i] = i\n",
        "arr"
      ]
    },
    {
      "cell_type": "markdown",
      "source": [
        "* To select out a subset of the rows in a particular order, you can simply pass a list or\n",
        "ndarray of integers specifying the desired order:"
      ],
      "metadata": {
        "id": "Ds6IJ-Qx30am"
      }
    },
    {
      "cell_type": "code",
      "execution_count": null,
      "metadata": {
        "deletable": true,
        "editable": true,
        "id": "uZKtm4XOoyOn",
        "colab": {
          "base_uri": "https://localhost:8080/"
        },
        "outputId": "062f3326-6b76-4e17-c1fd-75e6937a4643"
      },
      "outputs": [
        {
          "output_type": "execute_result",
          "data": {
            "text/plain": [
              "array([[4., 4., 4., 4.],\n",
              "       [3., 3., 3., 3.],\n",
              "       [0., 0., 0., 0.],\n",
              "       [6., 6., 6., 6.]])"
            ]
          },
          "metadata": {},
          "execution_count": 88
        }
      ],
      "source": [
        "arr[[4, 3, 0, 6]]"
      ]
    },
    {
      "cell_type": "markdown",
      "source": [
        "* Using negative indices selects rows from\n",
        "the end:"
      ],
      "metadata": {
        "id": "sXhdpkS1371v"
      }
    },
    {
      "cell_type": "code",
      "execution_count": null,
      "metadata": {
        "deletable": true,
        "editable": true,
        "id": "5jP19jVwoyOn",
        "colab": {
          "base_uri": "https://localhost:8080/"
        },
        "outputId": "894f48b8-8346-494c-fe49-da09374cf189"
      },
      "outputs": [
        {
          "output_type": "execute_result",
          "data": {
            "text/plain": [
              "array([[5., 5., 5., 5.],\n",
              "       [3., 3., 3., 3.],\n",
              "       [1., 1., 1., 1.]])"
            ]
          },
          "metadata": {},
          "execution_count": 89
        }
      ],
      "source": [
        "arr[[-3, -5, -7]]"
      ]
    },
    {
      "cell_type": "markdown",
      "source": [
        "* Passing multiple index arrays does something slightly different; it selects a onedimensional array of elements corresponding to each tuple of indices:"
      ],
      "metadata": {
        "id": "Bee3ta814CbP"
      }
    },
    {
      "cell_type": "code",
      "execution_count": null,
      "metadata": {
        "deletable": true,
        "editable": true,
        "id": "_ejPv2cxoyOo",
        "colab": {
          "base_uri": "https://localhost:8080/"
        },
        "outputId": "b8c9da92-848e-43f5-a2b8-8996076309a5"
      },
      "outputs": [
        {
          "output_type": "execute_result",
          "data": {
            "text/plain": [
              "array([[ 0,  1,  2,  3],\n",
              "       [ 4,  5,  6,  7],\n",
              "       [ 8,  9, 10, 11],\n",
              "       [12, 13, 14, 15],\n",
              "       [16, 17, 18, 19],\n",
              "       [20, 21, 22, 23],\n",
              "       [24, 25, 26, 27],\n",
              "       [28, 29, 30, 31]])"
            ]
          },
          "metadata": {},
          "execution_count": 90
        }
      ],
      "source": [
        "arr = np.arange(32).reshape((8, 4))\n",
        "arr"
      ]
    },
    {
      "cell_type": "code",
      "source": [
        "arr[[1, 5, 7, 2], [0, 3, 1, 2]]"
      ],
      "metadata": {
        "colab": {
          "base_uri": "https://localhost:8080/"
        },
        "id": "bzUPGUsg4Nau",
        "outputId": "025dae5c-5025-47c6-ac98-dc0fd2220f25"
      },
      "execution_count": null,
      "outputs": [
        {
          "output_type": "execute_result",
          "data": {
            "text/plain": [
              "array([ 4, 23, 29, 10])"
            ]
          },
          "metadata": {},
          "execution_count": 92
        }
      ]
    },
    {
      "cell_type": "markdown",
      "source": [
        "* Here the elements (1, 0), (5, 3), (7, 1), and (2, 2) were selected. Regardless of\n",
        "how many dimensions the array has (here, only 2), the result of fancy indexing is\n",
        "always one-dimensional."
      ],
      "metadata": {
        "id": "I4LwLcxy4a_R"
      }
    },
    {
      "cell_type": "markdown",
      "source": [],
      "metadata": {
        "id": "Hw6_hY4Q4fQ9"
      }
    },
    {
      "cell_type": "code",
      "execution_count": 21,
      "metadata": {
        "deletable": true,
        "editable": true,
        "id": "9XpNP6qCoyOo"
      },
      "outputs": [],
      "source": []
    },
    {
      "cell_type": "markdown",
      "source": [
        "# Note:\n",
        "* Keep in mind that fancy indexing, unlike slicing, always copies the data into a new\n",
        "array."
      ],
      "metadata": {
        "id": "p0Ts_0rx4pXJ"
      }
    },
    {
      "cell_type": "markdown",
      "metadata": {
        "deletable": true,
        "editable": true,
        "id": "9f_p3cJ2oyOo"
      },
      "source": [
        "### Transposing Arrays and Swapping Axes\n",
        "* Transposing is a special form of reshaping that similarly returns a view on the underlying data without copying anything.\n",
        "* Arrays have the transpose method and also the\n",
        "special T attribute:"
      ]
    },
    {
      "cell_type": "code",
      "execution_count": null,
      "metadata": {
        "deletable": true,
        "editable": true,
        "id": "UxzKfMfvoyOo",
        "colab": {
          "base_uri": "https://localhost:8080/"
        },
        "outputId": "960a584d-c77e-4f0f-b8fd-1c12878c1086"
      },
      "outputs": [
        {
          "output_type": "execute_result",
          "data": {
            "text/plain": [
              "array([[ 0,  1,  2,  3,  4],\n",
              "       [ 5,  6,  7,  8,  9],\n",
              "       [10, 11, 12, 13, 14]])"
            ]
          },
          "metadata": {},
          "execution_count": 93
        }
      ],
      "source": [
        "arr = np.arange(15).reshape((3, 5))\n",
        "arr"
      ]
    },
    {
      "cell_type": "code",
      "source": [
        "arr.T"
      ],
      "metadata": {
        "colab": {
          "base_uri": "https://localhost:8080/"
        },
        "id": "7Dax0lJB5L-b",
        "outputId": "6c612506-e3bf-4ae6-f0e3-b9c0aa71bc6a"
      },
      "execution_count": null,
      "outputs": [
        {
          "output_type": "execute_result",
          "data": {
            "text/plain": [
              "array([[ 0,  5, 10],\n",
              "       [ 1,  6, 11],\n",
              "       [ 2,  7, 12],\n",
              "       [ 3,  8, 13],\n",
              "       [ 4,  9, 14]])"
            ]
          },
          "metadata": {},
          "execution_count": 94
        }
      ]
    },
    {
      "cell_type": "markdown",
      "source": [
        "* When doing matrix computations, you may do this very often for example, when computing the inner matrix product using np.dot:"
      ],
      "metadata": {
        "id": "dQWdugNV5Q9L"
      }
    },
    {
      "cell_type": "code",
      "execution_count": null,
      "metadata": {
        "deletable": true,
        "editable": true,
        "id": "O2fe1iW3oyOq",
        "colab": {
          "base_uri": "https://localhost:8080/"
        },
        "outputId": "4dde4f32-1c4d-46ab-d951-943f2d77b9ae"
      },
      "outputs": [
        {
          "output_type": "execute_result",
          "data": {
            "text/plain": [
              "array([[-0.00718572, -0.20022277, -1.26057403],\n",
              "       [-0.9569538 ,  0.26044122, -1.3634736 ],\n",
              "       [ 0.60256131, -1.44772897,  0.83503816],\n",
              "       [-0.96793901, -0.7622255 ,  1.18116813],\n",
              "       [ 0.40691467, -1.96490864,  0.0403457 ],\n",
              "       [-0.96404316,  0.03334688, -0.0567573 ]])"
            ]
          },
          "metadata": {},
          "execution_count": 95
        }
      ],
      "source": [
        "arr = np.random.randn(6, 3)\n",
        "arr"
      ]
    },
    {
      "cell_type": "code",
      "source": [
        "np.dot(arr.T, arr)"
      ],
      "metadata": {
        "colab": {
          "base_uri": "https://localhost:8080/"
        },
        "id": "4Y0HhF0u5Ygb",
        "outputId": "4786b6f4-0147-441b-b476-0d1e799ffd8f"
      },
      "execution_count": null,
      "outputs": [
        {
          "output_type": "execute_result",
          "data": {
            "text/plain": [
              "array([[ 3.31075703, -1.2140471 ,  0.7448361 ],\n",
              "       [-1.2140471 ,  6.64680362, -2.2931028 ],\n",
              "       [ 0.7448361 , -2.2931028 ,  5.54540319]])"
            ]
          },
          "metadata": {},
          "execution_count": 96
        }
      ]
    },
    {
      "cell_type": "markdown",
      "source": [
        "* For higher dimensional arrays, transpose will accept a tuple of axis numbers to permute the axes (for extra mind bending):"
      ],
      "metadata": {
        "id": "9IIo3prV5dlw"
      }
    },
    {
      "cell_type": "code",
      "execution_count": 3,
      "metadata": {
        "deletable": true,
        "editable": true,
        "id": "7GpJL_yioyOq",
        "colab": {
          "base_uri": "https://localhost:8080/"
        },
        "outputId": "364a2399-c30e-4f57-e02e-7de6db56b819"
      },
      "outputs": [
        {
          "output_type": "execute_result",
          "data": {
            "text/plain": [
              "array([[[ 0,  1,  2,  3],\n",
              "        [ 4,  5,  6,  7]],\n",
              "\n",
              "       [[ 8,  9, 10, 11],\n",
              "        [12, 13, 14, 15]]])"
            ]
          },
          "metadata": {},
          "execution_count": 3
        }
      ],
      "source": [
        "arr = np.arange(16).reshape((2, 2, 4))\n",
        "arr"
      ]
    },
    {
      "cell_type": "markdown",
      "source": [
        "# **arr.transpose((num_sub_array, X_axis(should be same for both), Y_axis))**\n"
      ],
      "metadata": {
        "id": "-qf-g4Zb65W6"
      }
    },
    {
      "cell_type": "markdown",
      "source": [
        "Case1:"
      ],
      "metadata": {
        "id": "sm5YLvWJ7EiE"
      }
    },
    {
      "cell_type": "code",
      "source": [
        "arr.transpose((0, 1, 2))"
      ],
      "metadata": {
        "colab": {
          "base_uri": "https://localhost:8080/"
        },
        "id": "S2-5eMRG7Jqe",
        "outputId": "a2e25a0f-b608-428a-de35-e1e1a4986887"
      },
      "execution_count": 8,
      "outputs": [
        {
          "output_type": "execute_result",
          "data": {
            "text/plain": [
              "array([[[ 0,  1,  2,  3],\n",
              "        [ 4,  5,  6,  7]],\n",
              "\n",
              "       [[ 8,  9, 10, 11],\n",
              "        [12, 13, 14, 15]]])"
            ]
          },
          "metadata": {},
          "execution_count": 8
        }
      ]
    },
    {
      "cell_type": "markdown",
      "source": [
        "Case2: Changing sub_array and X_axis\n",
        "\n",
        "  Here in frist sub array rows of first orignal sub array will be there"
      ],
      "metadata": {
        "id": "Vz-B-hSy7Oj1"
      }
    },
    {
      "cell_type": "code",
      "source": [
        "arr.transpose((1, 0, 2))"
      ],
      "metadata": {
        "colab": {
          "base_uri": "https://localhost:8080/"
        },
        "id": "CbJYcWmT5jlh",
        "outputId": "d2f9e99a-3085-4683-c2cc-1f67565ae8db"
      },
      "execution_count": 4,
      "outputs": [
        {
          "output_type": "execute_result",
          "data": {
            "text/plain": [
              "array([[[ 0,  1,  2,  3],\n",
              "        [ 8,  9, 10, 11]],\n",
              "\n",
              "       [[ 4,  5,  6,  7],\n",
              "        [12, 13, 14, 15]]])"
            ]
          },
          "metadata": {},
          "execution_count": 4
        }
      ]
    },
    {
      "cell_type": "code",
      "source": [
        "arr.transpose((0, 2, 1))"
      ],
      "metadata": {
        "colab": {
          "base_uri": "https://localhost:8080/"
        },
        "id": "D3LwoJ6R5Gjr",
        "outputId": "cbb362e4-9ee8-493b-c5a4-2fa97813edc7"
      },
      "execution_count": 6,
      "outputs": [
        {
          "output_type": "execute_result",
          "data": {
            "text/plain": [
              "array([[[ 0,  4],\n",
              "        [ 1,  5],\n",
              "        [ 2,  6],\n",
              "        [ 3,  7]],\n",
              "\n",
              "       [[ 8, 12],\n",
              "        [ 9, 13],\n",
              "        [10, 14],\n",
              "        [11, 15]]])"
            ]
          },
          "metadata": {},
          "execution_count": 6
        }
      ]
    },
    {
      "cell_type": "markdown",
      "source": [
        "* Here, the axes have been reordered with the second axis first, the first axis second,\n",
        "and the last axis unchanged."
      ],
      "metadata": {
        "id": "WsxIN1l65pGh"
      }
    },
    {
      "cell_type": "markdown",
      "source": [
        "* Simple transposing with **.T** is a special case of swapping axes. ndarray has the method\n",
        "swapaxes, which takes a pair of axis numbers and switches the indicated axes to rear‐\n",
        "range the data:"
      ],
      "metadata": {
        "id": "136LDDZe5qli"
      }
    },
    {
      "cell_type": "code",
      "execution_count": null,
      "metadata": {
        "deletable": true,
        "editable": true,
        "id": "NZvTIq_noyOq",
        "colab": {
          "base_uri": "https://localhost:8080/"
        },
        "outputId": "ca819b40-a6f0-4128-9895-ac93e1cc2d26"
      },
      "outputs": [
        {
          "output_type": "execute_result",
          "data": {
            "text/plain": [
              "array([[[ 0,  1,  2,  3],\n",
              "        [ 4,  5,  6,  7]],\n",
              "\n",
              "       [[ 8,  9, 10, 11],\n",
              "        [12, 13, 14, 15]]])"
            ]
          },
          "metadata": {},
          "execution_count": 99
        }
      ],
      "source": [
        "arr"
      ]
    },
    {
      "cell_type": "code",
      "source": [
        "arr.swapaxes(1, 2)"
      ],
      "metadata": {
        "colab": {
          "base_uri": "https://localhost:8080/"
        },
        "id": "asnHfDEG5x0R",
        "outputId": "6d9b6490-c16a-42df-f067-af158a860c1a"
      },
      "execution_count": null,
      "outputs": [
        {
          "output_type": "execute_result",
          "data": {
            "text/plain": [
              "array([[[ 0,  4],\n",
              "        [ 1,  5],\n",
              "        [ 2,  6],\n",
              "        [ 3,  7]],\n",
              "\n",
              "       [[ 8, 12],\n",
              "        [ 9, 13],\n",
              "        [10, 14],\n",
              "        [11, 15]]])"
            ]
          },
          "metadata": {},
          "execution_count": 100
        }
      ]
    },
    {
      "cell_type": "markdown",
      "source": [
        "* swapaxes similarly returns a view on the data without making a copy."
      ],
      "metadata": {
        "id": "IKrU1afr521k"
      }
    },
    {
      "cell_type": "markdown",
      "metadata": {
        "deletable": true,
        "editable": true,
        "id": "_MzYdphCoyOq"
      },
      "source": [
        "## Universal Functions: Fast Element-Wise Array Functions"
      ]
    },
    {
      "cell_type": "code",
      "execution_count": null,
      "metadata": {
        "deletable": true,
        "editable": true,
        "id": "YyPqo2-toyOq"
      },
      "outputs": [],
      "source": [
        "arr = np.arange(10)\n",
        "arr\n",
        "np.sqrt(arr)\n",
        "np.exp(arr)"
      ]
    },
    {
      "cell_type": "code",
      "execution_count": null,
      "metadata": {
        "deletable": true,
        "editable": true,
        "id": "PkF1mUKWoyOr"
      },
      "outputs": [],
      "source": [
        "x = np.random.randn(8)\n",
        "y = np.random.randn(8)\n",
        "x\n",
        "y\n",
        "np.maximum(x, y)"
      ]
    },
    {
      "cell_type": "code",
      "execution_count": null,
      "metadata": {
        "deletable": true,
        "editable": true,
        "id": "lwvKD137oyOr"
      },
      "outputs": [],
      "source": [
        "arr = np.random.randn(7) * 5\n",
        "arr\n",
        "remainder, whole_part = np.modf(arr)\n",
        "remainder\n",
        "whole_part"
      ]
    },
    {
      "cell_type": "code",
      "execution_count": null,
      "metadata": {
        "deletable": true,
        "editable": true,
        "id": "A3opkvc1oyOr"
      },
      "outputs": [],
      "source": [
        "arr\n",
        "np.sqrt(arr)\n",
        "np.sqrt(arr, arr)\n",
        "arr"
      ]
    },
    {
      "cell_type": "markdown",
      "metadata": {
        "deletable": true,
        "editable": true,
        "id": "pkRoMFxJoyOr"
      },
      "source": [
        "## Array-Oriented Programming with Arrays"
      ]
    },
    {
      "cell_type": "code",
      "execution_count": null,
      "metadata": {
        "deletable": true,
        "editable": true,
        "id": "oKdcuhSKoyOr"
      },
      "outputs": [],
      "source": [
        "points = np.arange(-5, 5, 0.01) # 1000 equally spaced points\n",
        "xs, ys = np.meshgrid(points, points)\n",
        "ys"
      ]
    },
    {
      "cell_type": "code",
      "execution_count": null,
      "metadata": {
        "deletable": true,
        "editable": true,
        "id": "fv0qQRtzoyOs"
      },
      "outputs": [],
      "source": [
        "z = np.sqrt(xs ** 2 + ys ** 2)\n",
        "z"
      ]
    },
    {
      "cell_type": "code",
      "execution_count": null,
      "metadata": {
        "deletable": true,
        "editable": true,
        "id": "IJzl9okAoyOs"
      },
      "outputs": [],
      "source": [
        "import matplotlib.pyplot as plt\n",
        "plt.imshow(z, cmap=plt.cm.gray); plt.colorbar()\n",
        "plt.title(\"Image plot of $\\sqrt{x^2 + y^2}$ for a grid of values\")"
      ]
    },
    {
      "cell_type": "code",
      "execution_count": null,
      "metadata": {
        "deletable": true,
        "editable": true,
        "id": "p8tBU2Q9oyOs"
      },
      "outputs": [],
      "source": [
        "plt.draw()"
      ]
    },
    {
      "cell_type": "code",
      "execution_count": null,
      "metadata": {
        "deletable": true,
        "editable": true,
        "id": "A3TS5EpkoyOt"
      },
      "outputs": [],
      "source": [
        "plt.close('all')"
      ]
    },
    {
      "cell_type": "markdown",
      "metadata": {
        "deletable": true,
        "editable": true,
        "id": "cp_3Z0EJoyOt"
      },
      "source": [
        "### Expressing Conditional Logic as Array Operations"
      ]
    },
    {
      "cell_type": "code",
      "execution_count": null,
      "metadata": {
        "deletable": true,
        "editable": true,
        "id": "aY4GWwm7oyOt"
      },
      "outputs": [],
      "source": [
        "xarr = np.array([1.1, 1.2, 1.3, 1.4, 1.5])\n",
        "yarr = np.array([2.1, 2.2, 2.3, 2.4, 2.5])\n",
        "cond = np.array([True, False, True, True, False])"
      ]
    },
    {
      "cell_type": "code",
      "execution_count": null,
      "metadata": {
        "deletable": true,
        "editable": true,
        "id": "bl-O0Ze7oyOt"
      },
      "outputs": [],
      "source": [
        "result = [(x if c else y)\n",
        "          for x, y, c in zip(xarr, yarr, cond)]\n",
        "result"
      ]
    },
    {
      "cell_type": "code",
      "execution_count": null,
      "metadata": {
        "deletable": true,
        "editable": true,
        "id": "2B-xruJqoyOu"
      },
      "outputs": [],
      "source": [
        "result = np.where(cond, xarr, yarr)\n",
        "result"
      ]
    },
    {
      "cell_type": "code",
      "execution_count": null,
      "metadata": {
        "deletable": true,
        "editable": true,
        "id": "wRAk0DkjoyOu"
      },
      "outputs": [],
      "source": [
        "arr = np.random.randn(4, 4)\n",
        "arr\n",
        "arr > 0\n",
        "np.where(arr > 0, 2, -2)"
      ]
    },
    {
      "cell_type": "code",
      "execution_count": null,
      "metadata": {
        "deletable": true,
        "editable": true,
        "id": "A_eGkLuyoyOu"
      },
      "outputs": [],
      "source": [
        "np.where(arr > 0, 2, arr) # set only positive values to 2"
      ]
    },
    {
      "cell_type": "markdown",
      "metadata": {
        "deletable": true,
        "editable": true,
        "id": "6iyitSSQoyOv"
      },
      "source": [
        "### Mathematical and Statistical Methods"
      ]
    },
    {
      "cell_type": "code",
      "execution_count": null,
      "metadata": {
        "deletable": true,
        "editable": true,
        "id": "rP8o0IzFoyOv"
      },
      "outputs": [],
      "source": [
        "arr = np.random.randn(5, 4)\n",
        "arr\n",
        "arr.mean()\n",
        "np.mean(arr)\n",
        "arr.sum()"
      ]
    },
    {
      "cell_type": "code",
      "execution_count": null,
      "metadata": {
        "deletable": true,
        "editable": true,
        "id": "zdMOJr8moyOv"
      },
      "outputs": [],
      "source": [
        "arr.mean(axis=1)\n",
        "arr.sum(axis=0)"
      ]
    },
    {
      "cell_type": "code",
      "execution_count": null,
      "metadata": {
        "deletable": true,
        "editable": true,
        "id": "sn-yJiZMoyOv"
      },
      "outputs": [],
      "source": [
        "arr = np.array([0, 1, 2, 3, 4, 5, 6, 7])\n",
        "arr.cumsum()"
      ]
    },
    {
      "cell_type": "code",
      "execution_count": null,
      "metadata": {
        "deletable": true,
        "editable": true,
        "id": "CuoOZUIgoyOw"
      },
      "outputs": [],
      "source": [
        "arr = np.array([[0, 1, 2], [3, 4, 5], [6, 7, 8]])\n",
        "arr\n",
        "arr.cumsum(axis=0)\n",
        "arr.cumprod(axis=1)"
      ]
    },
    {
      "cell_type": "markdown",
      "metadata": {
        "deletable": true,
        "editable": true,
        "id": "TPdoHLrmoyOw"
      },
      "source": [
        "### Methods for Boolean Arrays"
      ]
    },
    {
      "cell_type": "code",
      "execution_count": null,
      "metadata": {
        "deletable": true,
        "editable": true,
        "id": "WFAMH6G7oyOw"
      },
      "outputs": [],
      "source": [
        "arr = np.random.randn(100)\n",
        "(arr > 0).sum() # Number of positive values"
      ]
    },
    {
      "cell_type": "code",
      "execution_count": null,
      "metadata": {
        "deletable": true,
        "editable": true,
        "id": "jCV1D0JQoyOw"
      },
      "outputs": [],
      "source": [
        "bools = np.array([False, False, True, False])\n",
        "bools.any()\n",
        "bools.all()"
      ]
    },
    {
      "cell_type": "markdown",
      "metadata": {
        "deletable": true,
        "editable": true,
        "id": "Rlgdz3_voyOx"
      },
      "source": [
        "### Sorting"
      ]
    },
    {
      "cell_type": "code",
      "execution_count": null,
      "metadata": {
        "deletable": true,
        "editable": true,
        "id": "qntoCs-NoyOx"
      },
      "outputs": [],
      "source": [
        "arr = np.random.randn(6)\n",
        "arr\n",
        "arr.sort()\n",
        "arr"
      ]
    },
    {
      "cell_type": "code",
      "execution_count": null,
      "metadata": {
        "deletable": true,
        "editable": true,
        "id": "n_HV87ivoyOx"
      },
      "outputs": [],
      "source": [
        "arr = np.random.randn(5, 3)\n",
        "arr\n",
        "arr.sort(1)\n",
        "arr"
      ]
    },
    {
      "cell_type": "code",
      "execution_count": null,
      "metadata": {
        "deletable": true,
        "editable": true,
        "id": "aYRWl0P2oyOx"
      },
      "outputs": [],
      "source": [
        "large_arr = np.random.randn(1000)\n",
        "large_arr.sort()\n",
        "large_arr[int(0.05 * len(large_arr))] # 5% quantile"
      ]
    },
    {
      "cell_type": "markdown",
      "metadata": {
        "deletable": true,
        "editable": true,
        "id": "FUo7IMJ8oyOy"
      },
      "source": [
        "### Unique and Other Set Logic"
      ]
    },
    {
      "cell_type": "code",
      "execution_count": null,
      "metadata": {
        "deletable": true,
        "editable": true,
        "id": "3nSQL4Y6oyOy"
      },
      "outputs": [],
      "source": [
        "names = np.array(['Bob', 'Joe', 'Will', 'Bob', 'Will', 'Joe', 'Joe'])\n",
        "np.unique(names)\n",
        "ints = np.array([3, 3, 3, 2, 2, 1, 1, 4, 4])\n",
        "np.unique(ints)"
      ]
    },
    {
      "cell_type": "code",
      "execution_count": null,
      "metadata": {
        "deletable": true,
        "editable": true,
        "id": "6aO7iyftoyOz"
      },
      "outputs": [],
      "source": [
        "sorted(set(names))"
      ]
    },
    {
      "cell_type": "code",
      "execution_count": null,
      "metadata": {
        "deletable": true,
        "editable": true,
        "id": "yn3bgnvroyOz"
      },
      "outputs": [],
      "source": [
        "values = np.array([6, 0, 0, 3, 2, 5, 6])\n",
        "np.in1d(values, [2, 3, 6])"
      ]
    },
    {
      "cell_type": "markdown",
      "metadata": {
        "deletable": true,
        "editable": true,
        "id": "9fAfWVZLoyO0"
      },
      "source": [
        "## File Input and Output with Arrays"
      ]
    },
    {
      "cell_type": "code",
      "execution_count": null,
      "metadata": {
        "deletable": true,
        "editable": true,
        "id": "u2C2RDU7oyO0"
      },
      "outputs": [],
      "source": [
        "arr = np.arange(10)\n",
        "np.save('some_array', arr)"
      ]
    },
    {
      "cell_type": "code",
      "execution_count": null,
      "metadata": {
        "deletable": true,
        "editable": true,
        "id": "b9S0SNl9oyO0"
      },
      "outputs": [],
      "source": [
        "np.load('some_array.npy')"
      ]
    },
    {
      "cell_type": "code",
      "execution_count": null,
      "metadata": {
        "deletable": true,
        "editable": true,
        "id": "saHgfswloyO0"
      },
      "outputs": [],
      "source": [
        "np.savez('array_archive.npz', a=arr, b=arr)"
      ]
    },
    {
      "cell_type": "code",
      "execution_count": null,
      "metadata": {
        "deletable": true,
        "editable": true,
        "id": "MR_FzX2royO0"
      },
      "outputs": [],
      "source": [
        "arch = np.load('array_archive.npz')\n",
        "arch['b']"
      ]
    },
    {
      "cell_type": "code",
      "execution_count": null,
      "metadata": {
        "deletable": true,
        "editable": true,
        "id": "hfvqtCTjoyO1"
      },
      "outputs": [],
      "source": [
        "np.savez_compressed('arrays_compressed.npz', a=arr, b=arr)"
      ]
    },
    {
      "cell_type": "code",
      "execution_count": null,
      "metadata": {
        "deletable": true,
        "editable": true,
        "id": "Gbx6Xy0loyO1"
      },
      "outputs": [],
      "source": [
        "!rm some_array.npy\n",
        "!rm array_archive.npz\n",
        "!rm arrays_compressed.npz"
      ]
    },
    {
      "cell_type": "markdown",
      "metadata": {
        "deletable": true,
        "editable": true,
        "id": "iKlFJ3_9oyO1"
      },
      "source": [
        "## Linear Algebra"
      ]
    },
    {
      "cell_type": "code",
      "execution_count": null,
      "metadata": {
        "deletable": true,
        "editable": true,
        "id": "eNSk740AoyO1"
      },
      "outputs": [],
      "source": [
        "x = np.array([[1., 2., 3.], [4., 5., 6.]])\n",
        "y = np.array([[6., 23.], [-1, 7], [8, 9]])\n",
        "x\n",
        "y\n",
        "x.dot(y)"
      ]
    },
    {
      "cell_type": "code",
      "execution_count": null,
      "metadata": {
        "deletable": true,
        "editable": true,
        "id": "BE69KhMtoyO2"
      },
      "outputs": [],
      "source": [
        "np.dot(x, y)"
      ]
    },
    {
      "cell_type": "code",
      "execution_count": null,
      "metadata": {
        "deletable": true,
        "editable": true,
        "id": "6yy9lDmEoyO2"
      },
      "outputs": [],
      "source": [
        "np.dot(x, np.ones(3))"
      ]
    },
    {
      "cell_type": "code",
      "execution_count": null,
      "metadata": {
        "deletable": true,
        "editable": true,
        "id": "w7bwFwypoyO2"
      },
      "outputs": [],
      "source": [
        "x @ np.ones(3)"
      ]
    },
    {
      "cell_type": "code",
      "execution_count": null,
      "metadata": {
        "deletable": true,
        "editable": true,
        "id": "BxWLDr7CoyO2"
      },
      "outputs": [],
      "source": [
        "from numpy.linalg import inv, qr\n",
        "X = np.random.randn(5, 5)\n",
        "mat = X.T.dot(X)\n",
        "inv(mat)\n",
        "mat.dot(inv(mat))\n",
        "q, r = qr(mat)\n",
        "r"
      ]
    },
    {
      "cell_type": "markdown",
      "metadata": {
        "deletable": true,
        "editable": true,
        "id": "bK-2uzrcoyO2"
      },
      "source": [
        "## Pseudorandom Number Generation"
      ]
    },
    {
      "cell_type": "code",
      "execution_count": null,
      "metadata": {
        "deletable": true,
        "editable": true,
        "id": "hlreOXMNoyO3"
      },
      "outputs": [],
      "source": [
        "samples = np.random.normal(size=(4, 4))\n",
        "samples"
      ]
    },
    {
      "cell_type": "code",
      "execution_count": null,
      "metadata": {
        "deletable": true,
        "editable": true,
        "id": "BiBlPFPPoyO3"
      },
      "outputs": [],
      "source": [
        "from random import normalvariate\n",
        "N = 1000000\n",
        "%timeit samples = [normalvariate(0, 1) for _ in range(N)]\n",
        "%timeit np.random.normal(size=N)"
      ]
    },
    {
      "cell_type": "code",
      "execution_count": null,
      "metadata": {
        "deletable": true,
        "editable": true,
        "id": "tnJSPxj6oyO3"
      },
      "outputs": [],
      "source": [
        "np.random.seed(1234)"
      ]
    },
    {
      "cell_type": "code",
      "execution_count": null,
      "metadata": {
        "deletable": true,
        "editable": true,
        "id": "7VU4lIUdoyO3"
      },
      "outputs": [],
      "source": [
        "rng = np.random.RandomState(1234)\n",
        "rng.randn(10)"
      ]
    },
    {
      "cell_type": "markdown",
      "metadata": {
        "deletable": true,
        "editable": true,
        "id": "wFmwVyJPoyO_"
      },
      "source": [
        "## Example: Random Walks"
      ]
    },
    {
      "cell_type": "code",
      "execution_count": null,
      "metadata": {
        "deletable": true,
        "editable": true,
        "id": "k3pMmoJioyO_"
      },
      "outputs": [],
      "source": [
        "import random\n",
        "position = 0\n",
        "walk = [position]\n",
        "steps = 1000\n",
        "for i in range(steps):\n",
        "    step = 1 if random.randint(0, 1) else -1\n",
        "    position += step\n",
        "    walk.append(position)"
      ]
    },
    {
      "cell_type": "code",
      "execution_count": null,
      "metadata": {
        "deletable": true,
        "editable": true,
        "id": "EEESfQgxoyPA"
      },
      "outputs": [],
      "source": [
        "plt.figure()"
      ]
    },
    {
      "cell_type": "code",
      "execution_count": null,
      "metadata": {
        "deletable": true,
        "editable": true,
        "id": "_-uipIYWoyPA"
      },
      "outputs": [],
      "source": [
        "plt.plot(walk[:100])"
      ]
    },
    {
      "cell_type": "code",
      "execution_count": null,
      "metadata": {
        "deletable": true,
        "editable": true,
        "id": "cETPDZ7uoyPA"
      },
      "outputs": [],
      "source": [
        "np.random.seed(12345)"
      ]
    },
    {
      "cell_type": "code",
      "execution_count": null,
      "metadata": {
        "deletable": true,
        "editable": true,
        "id": "eQtPTD9doyPA"
      },
      "outputs": [],
      "source": [
        "nsteps = 1000\n",
        "draws = np.random.randint(0, 2, size=nsteps)\n",
        "steps = np.where(draws > 0, 1, -1)\n",
        "walk = steps.cumsum()"
      ]
    },
    {
      "cell_type": "code",
      "execution_count": null,
      "metadata": {
        "deletable": true,
        "editable": true,
        "id": "Ok3h3G9qoyPB"
      },
      "outputs": [],
      "source": [
        "walk.min()\n",
        "walk.max()"
      ]
    },
    {
      "cell_type": "code",
      "execution_count": null,
      "metadata": {
        "deletable": true,
        "editable": true,
        "id": "rbjGZAxboyPB"
      },
      "outputs": [],
      "source": [
        "(np.abs(walk) >= 10).argmax()"
      ]
    },
    {
      "cell_type": "markdown",
      "metadata": {
        "deletable": true,
        "editable": true,
        "id": "uBYkpY59oyPB"
      },
      "source": [
        "### Simulating Many Random Walks at Once"
      ]
    },
    {
      "cell_type": "code",
      "execution_count": null,
      "metadata": {
        "deletable": true,
        "editable": true,
        "id": "2gl4e6W0oyPB"
      },
      "outputs": [],
      "source": [
        "nwalks = 5000\n",
        "nsteps = 1000\n",
        "draws = np.random.randint(0, 2, size=(nwalks, nsteps)) # 0 or 1\n",
        "steps = np.where(draws > 0, 1, -1)\n",
        "walks = steps.cumsum(1)\n",
        "walks"
      ]
    },
    {
      "cell_type": "code",
      "execution_count": null,
      "metadata": {
        "deletable": true,
        "editable": true,
        "id": "jn1tS4k4oyPC"
      },
      "outputs": [],
      "source": [
        "walks.max()\n",
        "walks.min()"
      ]
    },
    {
      "cell_type": "code",
      "execution_count": null,
      "metadata": {
        "deletable": true,
        "editable": true,
        "id": "QCETWl-XoyPC"
      },
      "outputs": [],
      "source": [
        "hits30 = (np.abs(walks) >= 30).any(1)\n",
        "hits30\n",
        "hits30.sum() # Number that hit 30 or -30"
      ]
    },
    {
      "cell_type": "code",
      "execution_count": null,
      "metadata": {
        "deletable": true,
        "editable": true,
        "id": "2IRR5fHCoyPC"
      },
      "outputs": [],
      "source": [
        "crossing_times = (np.abs(walks[hits30]) >= 30).argmax(1)\n",
        "crossing_times.mean()"
      ]
    },
    {
      "cell_type": "code",
      "execution_count": null,
      "metadata": {
        "deletable": true,
        "editable": true,
        "id": "6th7bBR9oyPC"
      },
      "outputs": [],
      "source": [
        "steps = np.random.normal(loc=0, scale=0.25,\n",
        "                         size=(nwalks, nsteps))"
      ]
    },
    {
      "cell_type": "markdown",
      "metadata": {
        "deletable": true,
        "editable": true,
        "id": "-PShGWm8oyPD"
      },
      "source": [
        "## Conclusion"
      ]
    }
  ],
  "metadata": {
    "kernelspec": {
      "display_name": "Python 3",
      "language": "python",
      "name": "python3"
    },
    "language_info": {
      "codemirror_mode": {
        "name": "ipython",
        "version": 3
      },
      "file_extension": ".py",
      "mimetype": "text/x-python",
      "name": "python",
      "nbconvert_exporter": "python",
      "pygments_lexer": "ipython3",
      "version": "3.6.0"
    },
    "colab": {
      "provenance": []
    }
  },
  "nbformat": 4,
  "nbformat_minor": 0
}